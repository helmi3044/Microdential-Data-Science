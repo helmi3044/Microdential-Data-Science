{
 "cells": [
  {
   "cell_type": "code",
   "execution_count": 1,
   "metadata": {},
   "outputs": [
    {
     "data": {
      "text/html": [
       "<div>\n",
       "<style scoped>\n",
       "    .dataframe tbody tr th:only-of-type {\n",
       "        vertical-align: middle;\n",
       "    }\n",
       "\n",
       "    .dataframe tbody tr th {\n",
       "        vertical-align: top;\n",
       "    }\n",
       "\n",
       "    .dataframe thead th {\n",
       "        text-align: right;\n",
       "    }\n",
       "</style>\n",
       "<table border=\"1\" class=\"dataframe\">\n",
       "  <thead>\n",
       "    <tr style=\"text-align: right;\">\n",
       "      <th></th>\n",
       "      <th>Age</th>\n",
       "      <th>Sex</th>\n",
       "      <th>BP</th>\n",
       "      <th>Cholesterol</th>\n",
       "      <th>Na_to_K</th>\n",
       "      <th>Drug</th>\n",
       "    </tr>\n",
       "  </thead>\n",
       "  <tbody>\n",
       "    <tr>\n",
       "      <th>0</th>\n",
       "      <td>23</td>\n",
       "      <td>F</td>\n",
       "      <td>HIGH</td>\n",
       "      <td>HIGH</td>\n",
       "      <td>25.355</td>\n",
       "      <td>DrugY</td>\n",
       "    </tr>\n",
       "    <tr>\n",
       "      <th>1</th>\n",
       "      <td>47</td>\n",
       "      <td>M</td>\n",
       "      <td>LOW</td>\n",
       "      <td>HIGH</td>\n",
       "      <td>13.093</td>\n",
       "      <td>drugC</td>\n",
       "    </tr>\n",
       "    <tr>\n",
       "      <th>2</th>\n",
       "      <td>47</td>\n",
       "      <td>M</td>\n",
       "      <td>LOW</td>\n",
       "      <td>HIGH</td>\n",
       "      <td>10.114</td>\n",
       "      <td>drugC</td>\n",
       "    </tr>\n",
       "    <tr>\n",
       "      <th>3</th>\n",
       "      <td>28</td>\n",
       "      <td>F</td>\n",
       "      <td>NORMAL</td>\n",
       "      <td>HIGH</td>\n",
       "      <td>7.798</td>\n",
       "      <td>drugX</td>\n",
       "    </tr>\n",
       "    <tr>\n",
       "      <th>4</th>\n",
       "      <td>61</td>\n",
       "      <td>F</td>\n",
       "      <td>LOW</td>\n",
       "      <td>HIGH</td>\n",
       "      <td>18.043</td>\n",
       "      <td>DrugY</td>\n",
       "    </tr>\n",
       "  </tbody>\n",
       "</table>\n",
       "</div>"
      ],
      "text/plain": [
       "   Age Sex      BP Cholesterol  Na_to_K   Drug\n",
       "0   23   F    HIGH        HIGH   25.355  DrugY\n",
       "1   47   M     LOW        HIGH   13.093  drugC\n",
       "2   47   M     LOW        HIGH   10.114  drugC\n",
       "3   28   F  NORMAL        HIGH    7.798  drugX\n",
       "4   61   F     LOW        HIGH   18.043  DrugY"
      ]
     },
     "execution_count": 1,
     "metadata": {},
     "output_type": "execute_result"
    }
   ],
   "source": [
    "# Import standard library\n",
    "import pandas as pd\n",
    "import numpy as np\n",
    "import matplotlib.pyplot as plt\n",
    "import seaborn as sns\n",
    "\n",
    "# Memuat file drug200.csv menjadi pandas dataframe\n",
    "dataframe = pd.read_csv('drug200.csv')\n",
    "\n",
    "# Menampilkan 5 baris pertama dari dataframe\n",
    "dataframe.head()"
   ]
  },
  {
   "cell_type": "code",
   "execution_count": 2,
   "metadata": {},
   "outputs": [
    {
     "name": "stdout",
     "output_type": "stream",
     "text": [
      "<class 'pandas.core.frame.DataFrame'>\n",
      "RangeIndex: 200 entries, 0 to 199\n",
      "Data columns (total 6 columns):\n",
      " #   Column       Non-Null Count  Dtype  \n",
      "---  ------       --------------  -----  \n",
      " 0   Age          200 non-null    int64  \n",
      " 1   Sex          200 non-null    object \n",
      " 2   BP           200 non-null    object \n",
      " 3   Cholesterol  200 non-null    object \n",
      " 4   Na_to_K      200 non-null    float64\n",
      " 5   Drug         200 non-null    object \n",
      "dtypes: float64(1), int64(1), object(4)\n",
      "memory usage: 9.5+ KB\n"
     ]
    }
   ],
   "source": [
    "# Menampilkan informasi dari dataframe\n",
    "dataframe.info()"
   ]
  },
  {
   "cell_type": "code",
   "execution_count": 3,
   "metadata": {},
   "outputs": [
    {
     "data": {
      "text/html": [
       "<div>\n",
       "<style scoped>\n",
       "    .dataframe tbody tr th:only-of-type {\n",
       "        vertical-align: middle;\n",
       "    }\n",
       "\n",
       "    .dataframe tbody tr th {\n",
       "        vertical-align: top;\n",
       "    }\n",
       "\n",
       "    .dataframe thead th {\n",
       "        text-align: right;\n",
       "    }\n",
       "</style>\n",
       "<table border=\"1\" class=\"dataframe\">\n",
       "  <thead>\n",
       "    <tr style=\"text-align: right;\">\n",
       "      <th></th>\n",
       "      <th>Age</th>\n",
       "      <th>Sex</th>\n",
       "      <th>BP</th>\n",
       "      <th>Cholesterol</th>\n",
       "      <th>Na_to_K</th>\n",
       "      <th>Drug</th>\n",
       "    </tr>\n",
       "  </thead>\n",
       "  <tbody>\n",
       "    <tr>\n",
       "      <th>0</th>\n",
       "      <td>23</td>\n",
       "      <td>0</td>\n",
       "      <td>0</td>\n",
       "      <td>0</td>\n",
       "      <td>25.355</td>\n",
       "      <td>0</td>\n",
       "    </tr>\n",
       "    <tr>\n",
       "      <th>1</th>\n",
       "      <td>47</td>\n",
       "      <td>1</td>\n",
       "      <td>1</td>\n",
       "      <td>0</td>\n",
       "      <td>13.093</td>\n",
       "      <td>3</td>\n",
       "    </tr>\n",
       "    <tr>\n",
       "      <th>2</th>\n",
       "      <td>47</td>\n",
       "      <td>1</td>\n",
       "      <td>1</td>\n",
       "      <td>0</td>\n",
       "      <td>10.114</td>\n",
       "      <td>3</td>\n",
       "    </tr>\n",
       "    <tr>\n",
       "      <th>3</th>\n",
       "      <td>28</td>\n",
       "      <td>0</td>\n",
       "      <td>2</td>\n",
       "      <td>0</td>\n",
       "      <td>7.798</td>\n",
       "      <td>4</td>\n",
       "    </tr>\n",
       "    <tr>\n",
       "      <th>4</th>\n",
       "      <td>61</td>\n",
       "      <td>0</td>\n",
       "      <td>1</td>\n",
       "      <td>0</td>\n",
       "      <td>18.043</td>\n",
       "      <td>0</td>\n",
       "    </tr>\n",
       "  </tbody>\n",
       "</table>\n",
       "</div>"
      ],
      "text/plain": [
       "   Age  Sex  BP  Cholesterol  Na_to_K  Drug\n",
       "0   23    0   0            0   25.355     0\n",
       "1   47    1   1            0   13.093     3\n",
       "2   47    1   1            0   10.114     3\n",
       "3   28    0   2            0    7.798     4\n",
       "4   61    0   1            0   18.043     0"
      ]
     },
     "execution_count": 3,
     "metadata": {},
     "output_type": "execute_result"
    }
   ],
   "source": [
    "# Import LabelEncoder dari module sklearn\n",
    "from sklearn.preprocessing import LabelEncoder\n",
    "\n",
    "# Menyalin / copy dataframe agar dataframe awal tetap utuh\n",
    "dataframe_int = dataframe.copy()\n",
    "\n",
    "# Membuat objek/instance yang bernama encoder\n",
    "encoder = LabelEncoder()\n",
    "\n",
    "# Membuat list dari nama kolom data kategori\n",
    "categorical_data = ['Sex', 'BP', 'Cholesterol', 'Drug']\n",
    "\n",
    "# Mengubah setiap data kategori menjadi numerik dengan encoder\n",
    "for kolom in categorical_data:\n",
    "    dataframe_int[kolom] = encoder.fit_transform(dataframe[kolom])\n",
    "    \n",
    "# Sekarang data sudah berupa angka sepenuhnya\n",
    "dataframe_int.head()"
   ]
  },
  {
   "cell_type": "code",
   "execution_count": 4,
   "metadata": {},
   "outputs": [
    {
     "name": "stdout",
     "output_type": "stream",
     "text": [
      "Sex [0 1]\n",
      "BP [0 1 2]\n",
      "Cholesterol [0 1]\n",
      "Drug [0 3 4 1 2]\n"
     ]
    }
   ],
   "source": [
    "for kolom in categorical_data:\n",
    "    print(kolom,dataframe_int[kolom].unique())"
   ]
  },
  {
   "cell_type": "code",
   "execution_count": 5,
   "metadata": {},
   "outputs": [
    {
     "name": "stdout",
     "output_type": "stream",
     "text": [
      "Sex ['F' 'M']\n",
      "BP ['HIGH' 'LOW' 'NORMAL']\n",
      "Cholesterol ['HIGH' 'NORMAL']\n",
      "Drug ['DrugY' 'drugC' 'drugX' 'drugA' 'drugB']\n"
     ]
    }
   ],
   "source": [
    "for kolom in categorical_data:\n",
    "    print(kolom, dataframe[kolom].unique())"
   ]
  },
  {
   "cell_type": "code",
   "execution_count": 6,
   "metadata": {},
   "outputs": [
    {
     "data": {
      "text/html": [
       "<div>\n",
       "<style scoped>\n",
       "    .dataframe tbody tr th:only-of-type {\n",
       "        vertical-align: middle;\n",
       "    }\n",
       "\n",
       "    .dataframe tbody tr th {\n",
       "        vertical-align: top;\n",
       "    }\n",
       "\n",
       "    .dataframe thead th {\n",
       "        text-align: right;\n",
       "    }\n",
       "</style>\n",
       "<table border=\"1\" class=\"dataframe\">\n",
       "  <thead>\n",
       "    <tr style=\"text-align: right;\">\n",
       "      <th></th>\n",
       "      <th>Age</th>\n",
       "      <th>Sex</th>\n",
       "      <th>BP</th>\n",
       "      <th>Cholesterol</th>\n",
       "      <th>Na_to_K</th>\n",
       "      <th>Drug</th>\n",
       "    </tr>\n",
       "  </thead>\n",
       "  <tbody>\n",
       "    <tr>\n",
       "      <th>Age</th>\n",
       "      <td>1.000000</td>\n",
       "      <td>0.102027</td>\n",
       "      <td>0.054212</td>\n",
       "      <td>-0.068234</td>\n",
       "      <td>-0.063119</td>\n",
       "      <td>0.041856</td>\n",
       "    </tr>\n",
       "    <tr>\n",
       "      <th>Sex</th>\n",
       "      <td>0.102027</td>\n",
       "      <td>1.000000</td>\n",
       "      <td>-0.007814</td>\n",
       "      <td>-0.008811</td>\n",
       "      <td>-0.125008</td>\n",
       "      <td>0.018239</td>\n",
       "    </tr>\n",
       "    <tr>\n",
       "      <th>BP</th>\n",
       "      <td>0.054212</td>\n",
       "      <td>-0.007814</td>\n",
       "      <td>1.000000</td>\n",
       "      <td>-0.137552</td>\n",
       "      <td>-0.149312</td>\n",
       "      <td>0.419397</td>\n",
       "    </tr>\n",
       "    <tr>\n",
       "      <th>Cholesterol</th>\n",
       "      <td>-0.068234</td>\n",
       "      <td>-0.008811</td>\n",
       "      <td>-0.137552</td>\n",
       "      <td>1.000000</td>\n",
       "      <td>0.010000</td>\n",
       "      <td>0.048415</td>\n",
       "    </tr>\n",
       "    <tr>\n",
       "      <th>Na_to_K</th>\n",
       "      <td>-0.063119</td>\n",
       "      <td>-0.125008</td>\n",
       "      <td>-0.149312</td>\n",
       "      <td>0.010000</td>\n",
       "      <td>1.000000</td>\n",
       "      <td>-0.689051</td>\n",
       "    </tr>\n",
       "    <tr>\n",
       "      <th>Drug</th>\n",
       "      <td>0.041856</td>\n",
       "      <td>0.018239</td>\n",
       "      <td>0.419397</td>\n",
       "      <td>0.048415</td>\n",
       "      <td>-0.689051</td>\n",
       "      <td>1.000000</td>\n",
       "    </tr>\n",
       "  </tbody>\n",
       "</table>\n",
       "</div>"
      ],
      "text/plain": [
       "                  Age       Sex        BP  Cholesterol   Na_to_K      Drug\n",
       "Age          1.000000  0.102027  0.054212    -0.068234 -0.063119  0.041856\n",
       "Sex          0.102027  1.000000 -0.007814    -0.008811 -0.125008  0.018239\n",
       "BP           0.054212 -0.007814  1.000000    -0.137552 -0.149312  0.419397\n",
       "Cholesterol -0.068234 -0.008811 -0.137552     1.000000  0.010000  0.048415\n",
       "Na_to_K     -0.063119 -0.125008 -0.149312     0.010000  1.000000 -0.689051\n",
       "Drug         0.041856  0.018239  0.419397     0.048415 -0.689051  1.000000"
      ]
     },
     "execution_count": 6,
     "metadata": {},
     "output_type": "execute_result"
    }
   ],
   "source": [
    "# Menampilkan matrix korelasi antar kolom\n",
    "dataframe_int.corr()"
   ]
  },
  {
   "cell_type": "code",
   "execution_count": 7,
   "metadata": {},
   "outputs": [
    {
     "data": {
      "image/png": "[encoded data removed]",
      "text/plain": [
       "<Figure size 720x576 with 2 Axes>"
      ]
     },
     "metadata": {
      "needs_background": "light"
     },
     "output_type": "display_data"
    }
   ],
   "source": [
    "plt.figure(figsize=(10, 8))\n",
    "plt.title('Matrix Korelasi Data')\n",
    "sns.heatmap(dataframe_int.corr(), annot=True, linewidths=3)\n",
    "plt.show()"
   ]
  },
  {
   "cell_type": "code",
   "execution_count": 8,
   "metadata": {},
   "outputs": [],
   "source": [
    "def distribusi() :\n",
    "    fig,axes = plt.subplots(nrows=2, ncols=3, figsize=(12,8))\n",
    "    #figsize=(12,8) it means  1200x800 pixel\n",
    "    plt.suptitle('Distribusi', fontsize=24)\n",
    "    \n",
    "    def kolom_generator():\n",
    "        for kolom in dataframe_int:\n",
    "            yield kolom\n",
    "    kolom = kolom_generator()\n",
    "    \n",
    "    for i in range(0,2):\n",
    "        for j in range(0,3):\n",
    "            k = next(kolom)\n",
    "            dataframe_int[k].plot(kind='hist', ax=axes[i,j])\n",
    "            axes[i,j].set_title(k)\n",
    "    plt.show()"
   ]
  },
  {
   "cell_type": "code",
   "execution_count": 9,
   "metadata": {
    "scrolled": true
   },
   "outputs": [
    {
     "data": {
      "image/png": "[encoded data removed]",
      "text/plain": [
       "<Figure size 864x576 with 6 Axes>"
      ]
     },
     "metadata": {
      "needs_background": "light"
     },
     "output_type": "display_data"
    }
   ],
   "source": [
    "distribusi()"
   ]
  },
  {
   "cell_type": "code",
   "execution_count": 10,
   "metadata": {},
   "outputs": [
    {
     "name": "stdout",
     "output_type": "stream",
     "text": [
      "(160, 5) (160,)\n",
      "(40, 5) (40,)\n"
     ]
    }
   ],
   "source": [
    "# Memisahkan dataframe awal menajdi data dan label\n",
    "data = dataframe_int.drop('Drug', axis=1)\n",
    "label = dataframe_int['Drug']\n",
    "\n",
    "# Memisahkan dataframe menjadi data latihan dan data tes\n",
    "from sklearn.model_selection import train_test_split\n",
    "x_train, x_test, y_train, y_test = train_test_split(data, label, test_size=0.2)\n",
    "\n",
    "# Print dataframe.shape untuk memngetahui bentuk dataframe\n",
    "print(x_train.shape, y_train.shape)\n",
    "print(x_test.shape, y_test.shape)"
   ]
  },
  {
   "cell_type": "code",
   "execution_count": 11,
   "metadata": {},
   "outputs": [],
   "source": [
    "# import linear SVC model dari sklearn\n",
    "from sklearn.svm import SVC\n",
    "\n",
    "# Membuat objek dengan nama \"model\" dengan memanggil SVC ()\n",
    "model = SVC(gamma='scale')"
   ]
  },
  {
   "cell_type": "code",
   "execution_count": 12,
   "metadata": {},
   "outputs": [
    {
     "data": {
      "text/plain": [
       "SVC()"
      ]
     },
     "execution_count": 12,
     "metadata": {},
     "output_type": "execute_result"
    }
   ],
   "source": [
    "# melatih model dengan data latihan\n",
    "model.fit(x_train, y_train)"
   ]
  },
  {
   "cell_type": "code",
   "execution_count": 13,
   "metadata": {},
   "outputs": [
    {
     "data": {
      "text/plain": [
       "SVC()"
      ]
     },
     "execution_count": 13,
     "metadata": {},
     "output_type": "execute_result"
    }
   ],
   "source": [
    "SVC(C=1.0, cache_size=200, class_weight=None, coef0=0.0, decision_function_shape='ovr', degree=3, gamma='scale', kernel='rbf' ,max_iter=-1, probability=False, random_state=None, shrinking=True, tol=0.001, verbose=False)"
   ]
  },
  {
   "cell_type": "code",
   "execution_count": 14,
   "metadata": {},
   "outputs": [],
   "source": [
    "# Membuat prediksi terhadap data tes\n",
    "prediction = model.predict(x_test)"
   ]
  },
  {
   "cell_type": "code",
   "execution_count": 15,
   "metadata": {},
   "outputs": [
    {
     "name": "stdout",
     "output_type": "stream",
     "text": [
      "SVM Predictions: \n",
      " [1 1 2 4 2 0 1 3 0 2 0 0 0 0 4 2 3 1 0 0 0 0 0 0 1 4 4 0 4 0 0 0 4 0 4 2 4\n",
      " 0 4 0] \n",
      " Accuracy: 100.0 %\n"
     ]
    }
   ],
   "source": [
    "model = SVC(kernel='linear')\n",
    "model.fit(x_train, y_train)\n",
    "model_acc = 100*model.score(x_test, y_test)\n",
    "print('SVM Predictions: \\n', model.predict(x_test), '\\n Accuracy:', model_acc, '%')"
   ]
  },
  {
   "cell_type": "code",
   "execution_count": 16,
   "metadata": {},
   "outputs": [
    {
     "data": {
      "image/png": "[encoded data removed]",
      "text/plain": [
       "<Figure size 432x288 with 1 Axes>"
      ]
     },
     "metadata": {
      "needs_background": "light"
     },
     "output_type": "display_data"
    }
   ],
   "source": [
    "# Import confusion matrix dari sklearn\n",
    "from sklearn.metrics import confusion_matrix\n",
    "\n",
    "# Membuat fungsi untuk menampilkan confusion matrix dengan seaborn dan matplotlib\n",
    "def display_conf(y_test,prediction):\n",
    "    sns.heatmap(confusion_matrix(y_test, prediction), annot=True, linewidths=3, cbar=False)\n",
    "    plt.title('Confusion Matrix')\n",
    "    plt.ylabel('Actual')\n",
    "    plt.xlabel('Prediction')\n",
    "    plt.show()\n",
    "    \n",
    "# Memanggil fungsi untuk menampilkan visualisasi confusion matrix\n",
    "display_conf(y_test, prediction)"
   ]
  },
  {
   "cell_type": "code",
   "execution_count": 17,
   "metadata": {},
   "outputs": [
    {
     "name": "stdout",
     "output_type": "stream",
     "text": [
      "R2 Score : 0.2153155282439141\n",
      "Classification Report :\n",
      "              precision    recall  f1-score   support\n",
      "\n",
      "           0       0.95      1.00      0.97        19\n",
      "           1       0.00      0.00      0.00         5\n",
      "           2       0.00      0.00      0.00         5\n",
      "           3       0.00      0.00      0.00         2\n",
      "           4       0.40      0.89      0.55         9\n",
      "\n",
      "    accuracy                           0.68        40\n",
      "   macro avg       0.27      0.38      0.31        40\n",
      "weighted avg       0.54      0.68      0.59        40\n",
      "\n"
     ]
    },
    {
     "name": "stderr",
     "output_type": "stream",
     "text": [
      "C:\\Users\\lenovo\\anaconda3\\lib\\site-packages\\sklearn\\metrics\\_classification.py:1221: UndefinedMetricWarning: Precision and F-score are ill-defined and being set to 0.0 in labels with no predicted samples. Use `zero_division` parameter to control this behavior.\n",
      "  _warn_prf(average, modifier, msg_start, len(result))\n"
     ]
    }
   ],
   "source": [
    "# Import r2_score dan classification_report dari sklearn\n",
    "from sklearn.metrics import r2_score\n",
    "from sklearn.metrics import classification_report\n",
    "\n",
    "print(f'R2 Score : {r2_score(y_test,prediction)}')\n",
    "print('Classification Report :')\n",
    "print(classification_report(y_test,prediction))"
   ]
  },
  {
   "cell_type": "code",
   "execution_count": 18,
   "metadata": {},
   "outputs": [
    {
     "data": {
      "text/plain": [
       "GridSearchCV(cv=5, estimator=SVC(),\n",
       "             param_grid={'C': [0.01, 0.1, 1, 10, 100],\n",
       "                         'gamma': [100, 10, 1, 0, 1, 0.01]})"
      ]
     },
     "execution_count": 18,
     "metadata": {},
     "output_type": "execute_result"
    }
   ],
   "source": [
    "# Menggunakan GridSearchCV untuk menemukan model dengan parameter terbaik\n",
    "from sklearn.model_selection import GridSearchCV\n",
    "\n",
    "# SVC  Model Hyperparameter\n",
    "param_grid = {'C':[0.01,0.1,1,10,100],\n",
    "             'gamma':[100,10,1,0,1,0.01]}\n",
    "\n",
    "# Membuat model terbaik dari semua kemungkinan kombinasi param_grid\n",
    "best_model = GridSearchCV(SVC(),param_grid, cv=5, refit=True)\n",
    "\n",
    "# Melatih model terbaik\n",
    "best_model.fit(x_train, y_train)"
   ]
  },
  {
   "cell_type": "code",
   "execution_count": 19,
   "metadata": {},
   "outputs": [
    {
     "data": {
      "text/plain": [
       "SVC(C=100, gamma=0.01)"
      ]
     },
     "execution_count": 19,
     "metadata": {},
     "output_type": "execute_result"
    }
   ],
   "source": [
    "# Model dengan parameter terbaik\n",
    "best_model.best_estimator_"
   ]
  },
  {
   "cell_type": "code",
   "execution_count": 20,
   "metadata": {},
   "outputs": [
    {
     "data": {
      "image/png": "[encoded data removed]",
      "text/plain": [
       "<Figure size 432x288 with 1 Axes>"
      ]
     },
     "metadata": {
      "needs_background": "light"
     },
     "output_type": "display_data"
    }
   ],
   "source": [
    "# Membuat prediksi dengan model yang telah ditingkatkan\n",
    "prediction = best_model.predict(x_test)\n",
    "\n",
    "# Menampilkan confusion matrix pada prediksi yang baru\n",
    "display_conf(y_test, prediction)"
   ]
  },
  {
   "cell_type": "code",
   "execution_count": 21,
   "metadata": {},
   "outputs": [
    {
     "name": "stdout",
     "output_type": "stream",
     "text": [
      "R2 Score :0.9905459702198062\n",
      "Classification Report : \n",
      "              precision    recall  f1-score   support\n",
      "\n",
      "           0       1.00      1.00      1.00        19\n",
      "           1       1.00      1.00      1.00         5\n",
      "           2       1.00      1.00      1.00         5\n",
      "           3       1.00      0.50      0.67         2\n",
      "           4       0.90      1.00      0.95         9\n",
      "\n",
      "    accuracy                           0.97        40\n",
      "   macro avg       0.98      0.90      0.92        40\n",
      "weighted avg       0.98      0.97      0.97        40\n",
      "\n"
     ]
    }
   ],
   "source": [
    "print(f'R2 Score :{r2_score(y_test, prediction)}')\n",
    "print('Classification Report : ')\n",
    "print(classification_report(y_test, prediction))"
   ]
  },
  {
   "cell_type": "code",
   "execution_count": 22,
   "metadata": {},
   "outputs": [],
   "source": [
    "import pickle\n",
    "# Menyimpan model menjadi file .pkl\n",
    "with open('AI_DrugClassifier.pkl','wb') as file:\n",
    "    pickle.dump(best_model,file)"
   ]
  },
  {
   "cell_type": "code",
   "execution_count": 23,
   "metadata": {},
   "outputs": [],
   "source": [
    "# Memuat model dalam file .pkl\n",
    "with open('AI_DrugClassifier.pkl','rb') as file:\n",
    "    model = pickle.load(file)"
   ]
  },
  {
   "cell_type": "code",
   "execution_count": 24,
   "metadata": {},
   "outputs": [
    {
     "data": {
      "text/plain": [
       "SVC(C=100, gamma=0.01)"
      ]
     },
     "execution_count": 24,
     "metadata": {},
     "output_type": "execute_result"
    }
   ],
   "source": [
    "model.best_estimator_"
   ]
  },
  {
   "cell_type": "markdown",
   "metadata": {},
   "source": [
    "## Demonstrasi Prediksi Model\n",
    "import pickle\n",
    "\n",
    "with open('AI_DrugClassifier.pkl','rb') as file:\n",
    "    model = pickle.load(file)\n",
    "    \n",
    "def self_prediction():\n",
    "    age = input('Age : ')\n",
    "    sex = input('Sex : ')\n",
    "    bp = input('BP : ')\n",
    "    chol = input('Cholesterol : ')\n",
    "    NatoK = input('Na_to_K : ')\n",
    "    \n",
    "    # data harus berbentuk (1,5) yaitu [[age,sex,bp,chol,NatoK]]\n",
    "    print('\\nPrediction')\n",
    "    print('Patient consumed : ',encoder.inverse_transform(model.predict([[age,sex,bp,chol,NatoK]]))[0])\n",
    "    \n",
    "print(self_prediction())"
   ]
  },
  {
   "cell_type": "code",
   "execution_count": 26,
   "metadata": {},
   "outputs": [],
   "source": [
    "!pip install -q pyngrok"
   ]
  },
  {
   "cell_type": "code",
   "execution_count": 27,
   "metadata": {},
   "outputs": [],
   "source": [
    "!pip install -q streamlit"
   ]
  },
  {
   "cell_type": "code",
   "execution_count": 28,
   "metadata": {},
   "outputs": [
    {
     "name": "stdout",
     "output_type": "stream",
     "text": [
      "Requirement already satisfied: ipykernel in c:\\users\\lenovo\\anaconda3\\lib\\site-packages (5.3.4)\n",
      "Requirement already satisfied: tornado>=4.2 in c:\\users\\lenovo\\anaconda3\\lib\\site-packages (from ipykernel) (6.0.4)\n",
      "Requirement already satisfied: traitlets>=4.1.0 in c:\\users\\lenovo\\anaconda3\\lib\\site-packages (from ipykernel) (5.0.5)\n",
      "Requirement already satisfied: ipython>=5.0.0 in c:\\users\\lenovo\\anaconda3\\lib\\site-packages (from ipykernel) (7.19.0)\n",
      "Requirement already satisfied: jupyter-client in c:\\users\\lenovo\\anaconda3\\lib\\site-packages (from ipykernel) (6.1.7)\n",
      "Requirement already satisfied: ipython-genutils in c:\\users\\lenovo\\anaconda3\\lib\\site-packages (from traitlets>=4.1.0->ipykernel) (0.2.0)\n",
      "Requirement already satisfied: setuptools>=18.5 in c:\\users\\lenovo\\anaconda3\\lib\\site-packages (from ipython>=5.0.0->ipykernel) (50.3.1.post20201107)\n",
      "Requirement already satisfied: pickleshare in c:\\users\\lenovo\\anaconda3\\lib\\site-packages (from ipython>=5.0.0->ipykernel) (0.7.5)\n",
      "Requirement already satisfied: backcall in c:\\users\\lenovo\\anaconda3\\lib\\site-packages (from ipython>=5.0.0->ipykernel) (0.2.0)\n",
      "Requirement already satisfied: pygments in c:\\users\\lenovo\\anaconda3\\lib\\site-packages (from ipython>=5.0.0->ipykernel) (2.7.2)\n",
      "Requirement already satisfied: decorator in c:\\users\\lenovo\\anaconda3\\lib\\site-packages (from ipython>=5.0.0->ipykernel) (4.4.2)\n",
      "Requirement already satisfied: colorama; sys_platform == \"win32\" in c:\\users\\lenovo\\anaconda3\\lib\\site-packages (from ipython>=5.0.0->ipykernel) (0.4.4)\n",
      "Requirement already satisfied: jedi>=0.10 in c:\\users\\lenovo\\anaconda3\\lib\\site-packages (from ipython>=5.0.0->ipykernel) (0.17.1)\n",
      "Requirement already satisfied: prompt-toolkit!=3.0.0,!=3.0.1,<3.1.0,>=2.0.0 in c:\\users\\lenovo\\anaconda3\\lib\\site-packages (from ipython>=5.0.0->ipykernel) (3.0.8)\n",
      "Requirement already satisfied: python-dateutil>=2.1 in c:\\users\\lenovo\\anaconda3\\lib\\site-packages (from jupyter-client->ipykernel) (2.8.1)\n",
      "Requirement already satisfied: pyzmq>=13 in c:\\users\\lenovo\\anaconda3\\lib\\site-packages (from jupyter-client->ipykernel) (19.0.2)\n",
      "Requirement already satisfied: jupyter-core>=4.6.0 in c:\\users\\lenovo\\anaconda3\\lib\\site-packages (from jupyter-client->ipykernel) (4.6.3)\n",
      "Requirement already satisfied: parso<0.8.0,>=0.7.0 in c:\\users\\lenovo\\anaconda3\\lib\\site-packages (from jedi>=0.10->ipython>=5.0.0->ipykernel) (0.7.0)\n",
      "Requirement already satisfied: wcwidth in c:\\users\\lenovo\\anaconda3\\lib\\site-packages (from prompt-toolkit!=3.0.0,!=3.0.1,<3.1.0,>=2.0.0->ipython>=5.0.0->ipykernel) (0.2.5)\n",
      "Requirement already satisfied: six>=1.5 in c:\\users\\lenovo\\anaconda3\\lib\\site-packages (from python-dateutil>=2.1->jupyter-client->ipykernel) (1.15.0)\n",
      "Requirement already satisfied: pywin32>=1.0; sys_platform == \"win32\" in c:\\users\\lenovo\\anaconda3\\lib\\site-packages (from jupyter-core>=4.6.0->jupyter-client->ipykernel) (227)\n"
     ]
    }
   ],
   "source": [
    "!pip install ipykernel"
   ]
  },
  {
   "cell_type": "code",
   "execution_count": 29,
   "metadata": {},
   "outputs": [
    {
     "name": "stdout",
     "output_type": "stream",
     "text": [
      "Overwriting coba.py\n"
     ]
    }
   ],
   "source": [
    "%%writefile coba.py\n",
    "import pickle\n",
    "import streamlit as st\n",
    "# loading the trained model\n",
    "pickle_in = open('AI_DrugClassifier.pkl', 'rb') \n",
    "classifier = pickle.load(pickle_in)\n",
    "@st.cache()\n",
    "# defining the function which will make the prediction using the data which the user inputs\n",
    "def self_prediction(Age, Sex, BP, Cholesterol, Na_to_K):\n",
    "    # Pre-processing user input\n",
    "    if Sex == \"MALE\":\n",
    "        Sex = 0\n",
    "    else:\n",
    "        Sex = 1\n",
    "    if BP == \"LOW\":\n",
    "        BP = 0\n",
    "    elif BP == \"NORMAL\":\n",
    "         BP = 1\n",
    "    else :\n",
    "        BP = 2\n",
    "    if Cholesterol == \"NORMAL\":\n",
    "        Cholesterol = 0\n",
    "    else:\n",
    "        Cholesterol = 1\n",
    "   \n",
    "    # Making predictions\n",
    "    self_prediction = classifier.predict([[Age, Sex, BP, Cholesterol, Na_to_K]])\n",
    "    \n",
    "    if self_prediction == 0:\n",
    "        pred = 'drugA'\n",
    "    elif self_prediction == 1:\n",
    "        pred = 'drugB'\n",
    "    elif self_prediction == 2:\n",
    "        pred = 'drugC'\n",
    "    elif self_prediction == 3:\n",
    "        pred = 'drugX'\n",
    "    else :\n",
    "        pred = 'DrugY'\n",
    "    return pred\n",
    "# this is the main function in which we define our webpage\n",
    "def main():\n",
    "    # front end elements of the web page\n",
    "        html_temp = \"\"\"\n",
    "        <div style =\"background-color:yellow;padding:13px\">\n",
    "        <h1 style =\"color:black;text-align:center;\">Prediksi Narkoba (PN App)</h1>\n",
    "        </div>\n",
    "        \"\"\"\n",
    "    # display the front end aspect\n",
    "        st.markdown(html_temp, unsafe_allow_html = True)\n",
    "    # following lines create boxes in which user can enter data required to make prediction\n",
    "        Age = st.number_input(\"Masukan Umur\",min_value=15, max_value=74, value=15, step=1)\n",
    "        Sex = st.selectbox('Gender',(\"MALE\",\"FEMALE\"))\n",
    "        BP = st.selectbox('BP Status',(\"LOW\",\"NORMAL\",\"HIGH\"))\n",
    "        Cholesterol = st.selectbox('Cholesterol',(\"NORMAL\",\"HIGH\"))\n",
    "        Na_to_K = st.number_input(\"Masukan NatoK\",min_value=6, max_value=38, value=6, step=1)\n",
    "        result =\"\"\n",
    "    # when 'Predict' is clicked, make the prediction and store it\n",
    "        if st.button(\"Predict\"):\n",
    "            result = self_prediction(Age, Sex, BP, Cholesterol, Na_to_K)\n",
    "            st.success('Jenis Narkoba {}'.format(result))\n",
    "            print(Na_to_K)\n",
    "if __name__=='__main__':\n",
    "    main()"
   ]
  }
 ],
 "metadata": {
  "kernelspec": {
   "display_name": "Python 3",
   "language": "python",
   "name": "python3"
  },
  "language_info": {
   "codemirror_mode": {
    "name": "ipython",
    "version": 3
   },
   "file_extension": ".py",
   "mimetype": "text/x-python",
   "name": "python",
   "nbconvert_exporter": "python",
   "pygments_lexer": "ipython3",
   "version": "3.8.5"
  }
 },
 "nbformat": 4,
 "nbformat_minor": 4
}
