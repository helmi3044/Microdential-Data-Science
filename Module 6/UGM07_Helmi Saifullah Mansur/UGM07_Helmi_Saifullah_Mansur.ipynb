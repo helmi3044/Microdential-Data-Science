{
  "nbformat": 4,
  "nbformat_minor": 0,
  "metadata": {
    "kernelspec": {
      "display_name": "Python 3",
      "language": "python",
      "name": "python3"
    },
    "language_info": {
      "codemirror_mode": {
        "name": "ipython",
        "version": 3
      },
      "file_extension": ".py",
      "mimetype": "text/x-python",
      "name": "python",
      "nbconvert_exporter": "python",
      "pygments_lexer": "ipython3",
      "version": "3.8.8"
    },
    "colab": {
      "name": "UGM07_Helmi Saifullah Mansur",
      "provenance": []
    }
  },
  "cells": [
    {
      "cell_type": "markdown",
      "metadata": {
        "id": "QEV7luDS7lHR"
      },
      "source": [
        "![header%20ipynb.png](attachment:header%20ipynb.png)"
      ]
    },
    {
      "cell_type": "markdown",
      "metadata": {
        "id": "IpngpveexIBg"
      },
      "source": [
        "# Nama : Helmi Saifullah Mansur\n",
        "# Kelas : UGM07\n",
        "# Universitas Host : Universitas Gadjah Mada"
      ]
    },
    {
      "cell_type": "markdown",
      "metadata": {
        "id": "LDzbihYh7lHt"
      },
      "source": [
        "# Hands-On\n",
        "\n",
        "Hands-On ini digunakan pada kegiatan Microcredential Associate Data Scientist 2021"
      ]
    },
    {
      "cell_type": "markdown",
      "metadata": {
        "id": "xtyINOb-7lHy"
      },
      "source": [
        "# Definisi Matriks\n",
        "\n",
        "Matriks dalam dunia metematika merupakan suatu bilangan, simbol, ataupun ekspresi yang disusun dalam baris dan kolom yang membentuk suatu bidang persegi/persegi panjang. Matriks memiliki ukuran/orde. Pada Python, matriks dapat dibuat sesuai kebutuhan dengan menentukan ukuran/orde dari matriks. Bentuk umum ukuran/orde matriks adalah mxn, m adalah banyak baris dan n adalah banyak kolom."
      ]
    },
    {
      "cell_type": "markdown",
      "metadata": {
        "id": "2cHIAvpB7lH4"
      },
      "source": [
        "# Contoh Membuat Matriks Orde 2x2\n",
        "Berikut ini adalah syntax untuk membuat sebuah matriks yang diberi nama matriksA dengan ukuran/orde 2x2. Matriks orde 2x2 merupakan matriks yang memiliki nilai pada 2 baris dan 2 kolom. \n",
        "Pada contoh: \n",
        "matriksA memiliki:\n",
        "Baris 1 Kolom 1, nilai = 1\n",
        "Baris 1 Kolom 2, nilai = 0\n",
        "Baris 2 Kolom 1, nilai = 0\n",
        "Baris 2 Kolom 2, nilai = 1"
      ]
    },
    {
      "cell_type": "code",
      "metadata": {
        "colab": {
          "base_uri": "https://localhost:8080/"
        },
        "id": "SH83lcYR7lH_",
        "outputId": "5e268876-784e-449d-b6f1-27d6ff2fa2d7"
      },
      "source": [
        "#Matriks dengan ukuran 2x2\n",
        "matriksA = [ [1,0],[0,1] ]\n",
        "#Menampilkan matriks dengan nama matriksA\n",
        "print (matriksA)"
      ],
      "execution_count": 1,
      "outputs": [
        {
          "output_type": "stream",
          "name": "stdout",
          "text": [
            "[[1, 0], [0, 1]]\n"
          ]
        }
      ]
    },
    {
      "cell_type": "markdown",
      "metadata": {
        "id": "_iDA4CvG7lIM"
      },
      "source": [
        "# Contoh Membuat Matriks Orde 3x3\n",
        "Berikut ini adalah syntax untuk membuat sebuah matriks yang diberi nama matriksB dengan ukuran/orde 3x3. Matriks orde 3x3 merupakan matriks yang memiliki nilai pada 3 baris dan 3 kolom. \n",
        "Pada contoh: \n",
        "matriksB memiliki:\n",
        "Baris 1 Kolom 1, nilai = 1\n",
        "Baris 1 Kolom 2, nilai = 0\n",
        "Baris 1 Kolom 3, nilai = 1\n",
        "Baris 2 Kolom 1, nilai = 0\n",
        "Baris 2 Kolom 2, nilai = 1\n",
        "Baris 2 Kolom 3, nilai = 0\n",
        "Baris 3 Kolom 1, nilai = 1\n",
        "Baris 3 Kolom 2, nilai = 0\n",
        "Baris 3 Kolom 3, nilai = 1"
      ]
    },
    {
      "cell_type": "code",
      "metadata": {
        "colab": {
          "base_uri": "https://localhost:8080/"
        },
        "id": "dmWfAX0d7lIQ",
        "outputId": "07d2cd5a-1791-4653-81d2-391c070bbdee"
      },
      "source": [
        "#Matriks dengan ukuran 3x3\n",
        "matriksB = [ [1,0,1],[0,1,0],[1,0,1] ]\n",
        "#Menampilkan matriks dengan nama MatriksB\n",
        "print (matriksB)"
      ],
      "execution_count": 2,
      "outputs": [
        {
          "output_type": "stream",
          "name": "stdout",
          "text": [
            "[[1, 0, 1], [0, 1, 0], [1, 0, 1]]\n"
          ]
        }
      ]
    },
    {
      "cell_type": "markdown",
      "metadata": {
        "id": "iNK73Ycl7lIY"
      },
      "source": [
        "# Latihan (1)\n",
        "Buatlah matriksC dengan orde 2x3, dan nilai yang diberikan pada matriksC adalah sebagai berikut:\n",
        "Baris 1 Kolom 1, nilai = 1\n",
        "Baris 1 Kolom 2, nilai = 2\n",
        "Baris 1 Kolom 3, nilai = 3\n",
        "Baris 2 Kolom 1, nilai = 4\n",
        "Baris 2 Kolom 2, nilai = 5\n",
        "Baris 2 Kolom 3, nilai = 6"
      ]
    },
    {
      "cell_type": "code",
      "metadata": {
        "colab": {
          "base_uri": "https://localhost:8080/"
        },
        "id": "2LTt8aM07lId",
        "outputId": "e2c85057-07e1-478b-90e9-31adb89cff09"
      },
      "source": [
        "#Latihan(1)\n",
        "#Matriks dengan ukuran 2x3\n",
        "matriksC = [ [1,2,3], [4,5,6] ]\n",
        "\n",
        "#Menampilkan matriks dengan nama MatriksC\n",
        "print(matriksC)"
      ],
      "execution_count": 3,
      "outputs": [
        {
          "output_type": "stream",
          "name": "stdout",
          "text": [
            "[[1, 2, 3], [4, 5, 6]]\n"
          ]
        }
      ]
    },
    {
      "cell_type": "markdown",
      "metadata": {
        "id": "fMeQdbd_7lIm"
      },
      "source": [
        "# Membuat Matriks dengan Menggunakan Perulangan\n",
        "Matriks dapat juga dibuat dengan menggunakan fungsi perulangan.\n",
        "Fungsi perulangan atau biasa disebut looping atau iterasi memerlukan tes kondisi. Bila hasil tes kondisi True, maka blok kode kembali dieksekusi. Tapi jika False, maka keluar dari perulangan.\n",
        "Di python, perulangan bisa dilakukan dengan dua cara atau metode, yaitu: menggunakan For atau menggunakan While."
      ]
    },
    {
      "cell_type": "markdown",
      "metadata": {
        "id": "KUnutonj7lIt"
      },
      "source": [
        "# Contoh Membuat Matriks dengan Perulangan FOR\n",
        "Pada contoh berikut ini, dibuat matriks dengan menggunakan perulangan for. Matriks mempunyai orde mxn, yaitu: orde 2x3, dan nilai yang diberikan adalah:\n",
        "Baris 1 Kolom 1, nilai = 1\n",
        "Baris 1 Kolom 2, nilai = 1\n",
        "Baris 1 Kolom 3, nilai = 1\n",
        "Baris 2 Kolom 1, nilai = 1\n",
        "Baris 2 Kolom 2, nilai = 1\n",
        "Baris 2 Kolom 3, nilai = 1"
      ]
    },
    {
      "cell_type": "code",
      "metadata": {
        "colab": {
          "base_uri": "https://localhost:8080/"
        },
        "id": "uk42vw3w7lIx",
        "outputId": "e0186e41-2ad1-49c5-d482-f4dcd4fbb7bc"
      },
      "source": [
        "#Matriks dengan menggunakan fungsi perulangan\n",
        "m = 2\n",
        "n = 3 \n",
        "x = [0]*m\n",
        "#Fungsi perulangan dengan menggunakan for\n",
        "for i in range(m): \n",
        "    x[i] = [1]*n \n",
        "#Menampilkan matriks\n",
        "print (x)"
      ],
      "execution_count": 4,
      "outputs": [
        {
          "output_type": "stream",
          "name": "stdout",
          "text": [
            "[[1, 1, 1], [1, 1, 1]]\n"
          ]
        }
      ]
    },
    {
      "cell_type": "markdown",
      "metadata": {
        "id": "Bm27aYSb7lI4"
      },
      "source": [
        "# Latihan (2)\n",
        "Buatlah matriks dengan orde 3x2, dengan nilai adalah:\n",
        "Baris 1 Kolom 1, nilai = 2\n",
        "Baris 1 Kolom 2, nilai = 2\n",
        "Baris 2 Kolom 1, nilai = 2\n",
        "Baris 2 Kolom 2, nilai = 2\n",
        "Baris 3 Kolom 1, nilai = 2\n",
        "Baris 3 Kolom 2, nilai = 2"
      ]
    },
    {
      "cell_type": "code",
      "metadata": {
        "colab": {
          "base_uri": "https://localhost:8080/"
        },
        "id": "gC6p3ENO7lI6",
        "outputId": "517d2308-f227-4f4c-ced0-444f3a5e9adc"
      },
      "source": [
        "#Latihan(2)\n",
        "#Matriks dengan menggunakan fungsi perulangan\n",
        "m = 3\n",
        "n = 2\n",
        "x = [0]*m\n",
        "\n",
        "#Fungsi perulangan dengan menggunakan for\n",
        "for i in range(m): \n",
        "    x[i] = [2]*n\n",
        "\n",
        "#Menampilkan matriks\n",
        "print(x)"
      ],
      "execution_count": 5,
      "outputs": [
        {
          "output_type": "stream",
          "name": "stdout",
          "text": [
            "[[2, 2], [2, 2], [2, 2]]\n"
          ]
        }
      ]
    },
    {
      "cell_type": "markdown",
      "metadata": {
        "id": "K40vNwkm7lI9"
      },
      "source": [
        "# Membuat Matriks dengan Menggunakan Library Numpy\n",
        "Library pada Python merupakan sebutan untuk kode program tambahan yang digunakan dalam kebutuhan tertentu. Python mempunyai lebih dari 140.000 library yang dikembangkan melalui open source project.\n",
        "\n",
        "Library Numpy memiliki kegunaan untuk operasi vektor dan matriks. Fiturnya hampir sama dengan MATLAB dalam mengelola array dan array multidimensi. Numpy merupakan salah satu library yang digunakan oleh library lain seperti Scikit-Learn untuk keperluan analisis data."
      ]
    },
    {
      "cell_type": "markdown",
      "metadata": {
        "id": "zGDctg-47lI_"
      },
      "source": [
        "# Contoh Membuat Matriks dengan Numpy\n",
        "Pada contoh berikut dibuat matriks dengan panjang elemen sebanyak 12 dengan nilai elemen dimulai dari indeks 0 sampai 11, dengan ukuran/orde matriks adalah 4x3."
      ]
    },
    {
      "cell_type": "code",
      "metadata": {
        "colab": {
          "base_uri": "https://localhost:8080/"
        },
        "id": "sn3F88jj7lJC",
        "outputId": "2a493c32-61af-46d3-b9d2-5d93e9f230e4"
      },
      "source": [
        "#Panggil Library Numpy\n",
        "from numpy import * \n",
        "#Menentukan panjang elemen sebanyak 12\n",
        "matriks = range(12) \n",
        "#Matriks orde adalah 4x3\n",
        "matriks = reshape(matriks,(4,3)) \n",
        "#Menampilkan matriks\n",
        "print (matriks)"
      ],
      "execution_count": 6,
      "outputs": [
        {
          "output_type": "stream",
          "name": "stdout",
          "text": [
            "[[ 0  1  2]\n",
            " [ 3  4  5]\n",
            " [ 6  7  8]\n",
            " [ 9 10 11]]\n"
          ]
        }
      ]
    },
    {
      "cell_type": "markdown",
      "metadata": {
        "id": "QwcM0kTW7lJD"
      },
      "source": [
        "# Latihan (3)\n",
        "Buatlah matriks dengan menggunakan Library Numpy dengan panjang elemen adalah 32 dan matriks memiliki orde 4x8"
      ]
    },
    {
      "cell_type": "code",
      "metadata": {
        "colab": {
          "base_uri": "https://localhost:8080/"
        },
        "id": "xc6xxboj7lJF",
        "outputId": "340bfad6-f9c3-4035-990c-3361be49027f"
      },
      "source": [
        "#Latihan(3)\n",
        "#Panggil Library Numpy\n",
        "from numpy import *\n",
        "\n",
        "#Menentukan panjang elemen sebanyak 32\n",
        "matriks = range(32)\n",
        "\n",
        "#Matriks orde adalah 4x8\n",
        "matriks = reshape(matriks,(4,8))\n",
        "\n",
        "#Menampilkan matriks\n",
        "print(matriks)"
      ],
      "execution_count": 7,
      "outputs": [
        {
          "output_type": "stream",
          "name": "stdout",
          "text": [
            "[[ 0  1  2  3  4  5  6  7]\n",
            " [ 8  9 10 11 12 13 14 15]\n",
            " [16 17 18 19 20 21 22 23]\n",
            " [24 25 26 27 28 29 30 31]]\n"
          ]
        }
      ]
    },
    {
      "cell_type": "markdown",
      "metadata": {
        "id": "9M-_zPOR7lJI"
      },
      "source": [
        "# Membuat Matriks dengan Nilai Random\n",
        "Jika ingin elemen pada matriks bernilai random, dapat menggunakan fungsi random yang tersedia pada numpy."
      ]
    },
    {
      "cell_type": "markdown",
      "metadata": {
        "id": "sGtvHOf47lJL"
      },
      "source": [
        "# Contoh Membuat Matriks Random dengan Numpy\n",
        "Pada contoh berikut ini dibuat matriks dengan ukuran/orde 3x4 dengan nilai elemen dimulai dari indeks 1 sampai 4 secara random. "
      ]
    },
    {
      "cell_type": "code",
      "metadata": {
        "colab": {
          "base_uri": "https://localhost:8080/"
        },
        "id": "Ae0dnv-R7lJM",
        "outputId": "76eab903-5f50-4cf7-f125-4b9b28b1cae7"
      },
      "source": [
        "#Memanggil Library numpy dan diberikan nama alias np\n",
        "import numpy as np\n",
        "#Membuat matriks ukuran 3x4 dengan random\n",
        "\n",
        "matriks = np.random.randint(1,4,(3,4))\n",
        "#Menampilkan matriks\n",
        "print (matriks)"
      ],
      "execution_count": 8,
      "outputs": [
        {
          "output_type": "stream",
          "name": "stdout",
          "text": [
            "[[2 2 2 1]\n",
            " [3 3 3 3]\n",
            " [1 2 2 3]]\n"
          ]
        }
      ]
    },
    {
      "cell_type": "markdown",
      "metadata": {
        "id": "cbpmTeNZ7lJO"
      },
      "source": [
        "# Latihan (4)\n",
        "Buatlah matriks dengan menggunakan Library Numpy dengan orde 3x30, dan nilai elemen dimulai dari indeks 1 sampai dengan 5 secara random."
      ]
    },
    {
      "cell_type": "code",
      "metadata": {
        "colab": {
          "base_uri": "https://localhost:8080/"
        },
        "id": "BepPJ7-s7lJR",
        "outputId": "23d7d7ac-25df-4f22-9625-9feb5a73bb15"
      },
      "source": [
        "#Latihan(4)\n",
        "#Memanggil Library numpy dan diberikan nama alias np\n",
        "import numpy as np\n",
        "\n",
        "#Membuat matriks ukuran 3x30 dengan random\n",
        "matriks = np.random.randint(1,5,(3,30))\n",
        "\n",
        "#Menampilkan matriks\n",
        "print(matriks)"
      ],
      "execution_count": 9,
      "outputs": [
        {
          "output_type": "stream",
          "name": "stdout",
          "text": [
            "[[1 4 2 4 2 2 2 1 2 2 1 4 2 2 2 3 1 3 1 1 1 1 1 4 3 4 3 4 1 3]\n",
            " [4 4 4 1 2 4 4 3 1 3 4 4 3 3 2 2 4 2 3 2 4 2 3 3 3 3 2 3 2 4]\n",
            " [3 4 4 4 1 4 2 2 4 4 3 4 1 3 4 4 1 3 1 1 2 3 3 3 3 4 4 1 1 4]]\n"
          ]
        }
      ]
    },
    {
      "cell_type": "markdown",
      "metadata": {
        "id": "5PDeJ5vo7lJT"
      },
      "source": [
        "# Penjumlahan Matriks\n",
        "\n",
        "Penjumlahan matriks dilakukan dengan menjumlahkan setiap elemen, menggunakan tanda plus (+). Hasil penjumlahan tersebut akan menjadi elemen baru. Masing - masing matriks diakses setiap elemennya pada koordinat yang sama kemudian dijumlahkan untuk mendapatkan elemen baru. Penjumlahan matriks dilakukan pada dua buah matriks yang memiliki orde sama."
      ]
    },
    {
      "cell_type": "code",
      "metadata": {
        "colab": {
          "base_uri": "https://localhost:8080/"
        },
        "id": "POXG-O3n7lJV",
        "outputId": "d58644e2-7537-4eaf-a361-14304ddd2129"
      },
      "source": [
        "#Penjumlahan Matriks\n",
        "#Contoh 1\n",
        "mat1 = [\n",
        "    [5, 0],\n",
        "    [2, 6],\n",
        "]\n",
        "\n",
        "mat2 = [\n",
        "    [1, 0],\n",
        "    [4, 2],\n",
        "]\n",
        "\n",
        "\n",
        "for x in range(0, len(mat1)):\n",
        "    for y in range(0, len(mat1[0])):\n",
        "        print (mat1[x][y] + mat2[x][y], end=' '),\n",
        "    print"
      ],
      "execution_count": 10,
      "outputs": [
        {
          "output_type": "stream",
          "name": "stdout",
          "text": [
            "6 0 6 8 "
          ]
        }
      ]
    },
    {
      "cell_type": "code",
      "metadata": {
        "colab": {
          "base_uri": "https://localhost:8080/"
        },
        "id": "5xKGikgM7lJX",
        "outputId": "6b4907a1-ed29-4444-91c5-48b90746d2ff"
      },
      "source": [
        "#Penjumlahan Matriks\n",
        "#Contoh 2\n",
        "import numpy as np\n",
        "matriksA = np.random.randint(1, 4,(3, 4))\n",
        "matriksB = np.random.randint(1, 3,(3, 4))\n",
        "print (matriksA)\n",
        "print () #memberikan spasi baris pada matriks yang tercetak\n",
        "print (matriksB)\n",
        "print ()\n",
        "\n",
        "#penjumlahan matriksA dan matriks B\n",
        "for x in range(0, len(matriksA)):\n",
        "    print ('Hasil Penjumlahan matriksA dan matriksB', 'Baris ke-', x+1)\n",
        "    print ()\n",
        "    for y in range(0, len(matriksA[0])):\n",
        "        print (matriksA[x][y] + matriksB[x][y], end=' '),\n",
        "    print ()"
      ],
      "execution_count": 11,
      "outputs": [
        {
          "output_type": "stream",
          "name": "stdout",
          "text": [
            "[[2 3 1 1]\n",
            " [2 3 3 3]\n",
            " [2 3 2 3]]\n",
            "\n",
            "[[1 1 1 1]\n",
            " [1 1 2 2]\n",
            " [2 2 2 1]]\n",
            "\n",
            "Hasil Penjumlahan matriksA dan matriksB Baris ke- 1\n",
            "\n",
            "3 4 2 2 \n",
            "Hasil Penjumlahan matriksA dan matriksB Baris ke- 2\n",
            "\n",
            "3 4 5 5 \n",
            "Hasil Penjumlahan matriksA dan matriksB Baris ke- 3\n",
            "\n",
            "4 5 4 4 \n"
          ]
        }
      ]
    },
    {
      "cell_type": "code",
      "metadata": {
        "colab": {
          "base_uri": "https://localhost:8080/"
        },
        "id": "rw9Iox7L7lJZ",
        "outputId": "50be0618-fbdc-4411-c976-24a372c47e0c"
      },
      "source": [
        "#Penjumlahan Matriks\n",
        "#Contoh 3\n",
        "import numpy as np\n",
        "matriksA = np.random.randint(1, 4,(6, 10))\n",
        "matriksB = np.random.randint(1, 3,(6, 10))\n",
        "print (matriksA)\n",
        "print () #memberikan spasi baris pada matriks yang tercetak\n",
        "print (matriksB)\n",
        "print ()\n",
        "\n",
        "#penjumlahan matriksA dan matriks B\n",
        "for x in range(0, len(matriksA)):\n",
        "    print ()\n",
        "    for y in range(0, len(matriksA[0])):\n",
        "        print (matriksA[x][y] + matriksB[x][y], end=' '),\n",
        "    print ()"
      ],
      "execution_count": 12,
      "outputs": [
        {
          "output_type": "stream",
          "name": "stdout",
          "text": [
            "[[2 1 2 3 2 3 1 2 3 1]\n",
            " [1 1 3 1 1 2 1 2 1 1]\n",
            " [1 3 2 3 1 3 2 2 2 3]\n",
            " [3 2 1 1 2 1 2 3 2 1]\n",
            " [2 3 3 3 2 1 2 2 1 2]\n",
            " [1 1 2 1 2 2 1 3 1 2]]\n",
            "\n",
            "[[1 2 2 1 1 2 1 2 1 2]\n",
            " [2 2 1 1 2 1 2 1 1 1]\n",
            " [1 2 1 1 2 2 2 2 2 2]\n",
            " [2 1 1 2 1 1 2 1 1 2]\n",
            " [2 2 1 1 2 1 2 1 2 2]\n",
            " [1 1 1 1 1 1 2 2 1 1]]\n",
            "\n",
            "\n",
            "3 3 4 4 3 5 2 4 4 3 \n",
            "\n",
            "3 3 4 2 3 3 3 3 2 2 \n",
            "\n",
            "2 5 3 4 3 5 4 4 4 5 \n",
            "\n",
            "5 3 2 3 3 2 4 4 3 3 \n",
            "\n",
            "4 5 4 4 4 2 4 3 3 4 \n",
            "\n",
            "2 2 3 2 3 3 3 5 2 3 \n"
          ]
        }
      ]
    },
    {
      "cell_type": "markdown",
      "metadata": {
        "id": "q_INCnQY7lJb"
      },
      "source": [
        "# Latihan (5)\n",
        "\n",
        "Buatlah penjumlahan dua matriks dengan menggunakan library Numpy, dengan matriks berukuran 7x9 yang nilainya didapatkan secara random."
      ]
    },
    {
      "cell_type": "code",
      "metadata": {
        "colab": {
          "base_uri": "https://localhost:8080/"
        },
        "id": "0TZOhuj97lJc",
        "outputId": "c2c2d9e0-d1d1-422f-834e-2e545e22b10c"
      },
      "source": [
        "#Latihan(5)\n",
        "#Penjumlahan Matriks\n",
        "import numpy as np\n",
        "matriksA = np.random.randint(6, 10,(7, 9))\n",
        "matriksB = np.random.randint(1, 5,(7, 9))\n",
        "print (matriksA)\n",
        "print () #memberikan spasi baris pada matriks yang tercetak\n",
        "print (matriksB)\n",
        "print ()\n",
        "\n",
        "#penjumlahan matriksA dan matriks B\n",
        "for x in range(0, len(matriksA)):\n",
        "    print ('Hasil Penjumlahan matriksA dan matriksB', 'Baris ke-', x+1)\n",
        "    print ()\n",
        "    for y in range(0, len(matriksA[0])):\n",
        "        print (matriksA[x][y] + matriksB[x][y], end=' '),\n",
        "    print ()"
      ],
      "execution_count": 13,
      "outputs": [
        {
          "output_type": "stream",
          "name": "stdout",
          "text": [
            "[[6 8 6 8 7 8 7 8 9]\n",
            " [8 7 8 6 6 6 6 9 7]\n",
            " [9 9 6 9 7 6 9 9 9]\n",
            " [6 8 9 6 8 8 7 8 6]\n",
            " [7 6 8 7 7 8 7 9 9]\n",
            " [8 9 8 9 8 9 8 8 8]\n",
            " [8 9 6 9 9 9 8 8 8]]\n",
            "\n",
            "[[1 1 1 2 2 1 3 1 1]\n",
            " [1 1 4 2 1 2 3 1 4]\n",
            " [2 2 3 2 3 3 2 1 1]\n",
            " [1 2 1 2 2 2 1 2 3]\n",
            " [4 4 1 2 3 4 1 3 1]\n",
            " [2 3 3 1 2 1 3 1 3]\n",
            " [3 2 3 4 4 4 3 2 2]]\n",
            "\n",
            "Hasil Penjumlahan matriksA dan matriksB Baris ke- 1\n",
            "\n",
            "7 9 7 10 9 9 10 9 10 \n",
            "Hasil Penjumlahan matriksA dan matriksB Baris ke- 2\n",
            "\n",
            "9 8 12 8 7 8 9 10 11 \n",
            "Hasil Penjumlahan matriksA dan matriksB Baris ke- 3\n",
            "\n",
            "11 11 9 11 10 9 11 10 10 \n",
            "Hasil Penjumlahan matriksA dan matriksB Baris ke- 4\n",
            "\n",
            "7 10 10 8 10 10 8 10 9 \n",
            "Hasil Penjumlahan matriksA dan matriksB Baris ke- 5\n",
            "\n",
            "11 10 9 9 10 12 8 12 10 \n",
            "Hasil Penjumlahan matriksA dan matriksB Baris ke- 6\n",
            "\n",
            "10 12 11 10 10 10 11 9 11 \n",
            "Hasil Penjumlahan matriksA dan matriksB Baris ke- 7\n",
            "\n",
            "11 11 9 13 13 13 11 10 10 \n"
          ]
        }
      ]
    },
    {
      "cell_type": "markdown",
      "metadata": {
        "id": "7vjkD69B7lJd"
      },
      "source": [
        "# Pengurangan Matriks\n",
        "\n",
        "Pengurangan matriks menggunakan operator dengan tanda kurang (-). Matriks baru akan terbentuk sebagai hasil dari pengurangan setiap kedua elemen matriks. Pengurangan matriks dilakukan pada dua matriks yang memiliki orde yang sama."
      ]
    },
    {
      "cell_type": "code",
      "metadata": {
        "colab": {
          "base_uri": "https://localhost:8080/"
        },
        "id": "At0Ommyp7lJe",
        "outputId": "9cf05143-d347-4c42-e1c5-99899f2cb89e"
      },
      "source": [
        "#Pengurangan Matriks\n",
        "#Contoh 1\n",
        "mat1 = [\n",
        "    [5, 0],\n",
        "    [2, 6],\n",
        "]\n",
        "\n",
        "mat2 = [\n",
        "    [1, 0],\n",
        "    [4, 2],\n",
        "]\n",
        "\n",
        "\n",
        "for x in range(0, len(mat1)):\n",
        "    for y in range(0, len(mat1[0])):\n",
        "        print (mat1[x][y] - mat2[x][y], end=' '),\n",
        "    print"
      ],
      "execution_count": 14,
      "outputs": [
        {
          "output_type": "stream",
          "name": "stdout",
          "text": [
            "4 0 -2 4 "
          ]
        }
      ]
    },
    {
      "cell_type": "code",
      "metadata": {
        "colab": {
          "base_uri": "https://localhost:8080/"
        },
        "id": "W5Tk9Lpc7lJe",
        "outputId": "8957a591-3562-4cc4-c252-79d414d5ed17"
      },
      "source": [
        "#Pengurangan Matriks\n",
        "#Contoh 2\n",
        "mat1 = [\n",
        "    [5, 0],\n",
        "    [2, 6],\n",
        "]\n",
        "\n",
        "mat2 = [\n",
        "    [1, 0],\n",
        "    [4, 2],\n",
        "]\n",
        "\n",
        "\n",
        "for x in range(0, len(mat1)):\n",
        "    for y in range(0, len(mat1[0])):\n",
        "        print (mat1[x][y] - mat2[x][y], end=' '),\n",
        "    print ()"
      ],
      "execution_count": 15,
      "outputs": [
        {
          "output_type": "stream",
          "name": "stdout",
          "text": [
            "4 0 \n",
            "-2 4 \n"
          ]
        }
      ]
    },
    {
      "cell_type": "code",
      "metadata": {
        "colab": {
          "base_uri": "https://localhost:8080/"
        },
        "id": "PE5FRFcS7lJf",
        "outputId": "37371408-0a73-4894-8e07-8770fac4dac0"
      },
      "source": [
        "#Pengurangan Matriks\n",
        "#Contoh 3\n",
        "import numpy as np\n",
        "matriksA = np.random.randint(1, 4,(3, 4))\n",
        "matriksB = np.random.randint(1, 3,(3, 4))\n",
        "print (matriksA)\n",
        "print () #memberikan spasi baris pada matriks yang tercetak\n",
        "print (matriksB)\n",
        "print ()\n",
        "\n",
        "#pengurangan matriksA dengan matriks B\n",
        "for x in range(0, len(matriksA)):\n",
        "    print ('Hasil Pengurangan matriksA dan matriksB', 'Baris ke-', x+1)\n",
        "    print ()\n",
        "    for y in range(0, len(matriksA[0])):\n",
        "        print (matriksA[x][y] - matriksB[x][y], end=' '),\n",
        "    print ()"
      ],
      "execution_count": 16,
      "outputs": [
        {
          "output_type": "stream",
          "name": "stdout",
          "text": [
            "[[3 1 1 3]\n",
            " [1 2 3 2]\n",
            " [3 3 2 2]]\n",
            "\n",
            "[[2 1 1 1]\n",
            " [2 2 1 2]\n",
            " [1 1 2 1]]\n",
            "\n",
            "Hasil Pengurangan matriksA dan matriksB Baris ke- 1\n",
            "\n",
            "1 0 0 2 \n",
            "Hasil Pengurangan matriksA dan matriksB Baris ke- 2\n",
            "\n",
            "-1 0 2 0 \n",
            "Hasil Pengurangan matriksA dan matriksB Baris ke- 3\n",
            "\n",
            "2 2 0 1 \n"
          ]
        }
      ]
    },
    {
      "cell_type": "code",
      "metadata": {
        "colab": {
          "base_uri": "https://localhost:8080/"
        },
        "id": "lfrh76Nq7lJf",
        "outputId": "1c9a41ff-088a-48f7-f5ee-afba8a96719d"
      },
      "source": [
        "#Pengurangan Matriks\n",
        "#Contoh 4\n",
        "import numpy as np\n",
        "matriksA = np.random.randint(1, 4,(6, 10))\n",
        "matriksB = np.random.randint(1, 3,(6, 10))\n",
        "print (matriksA)\n",
        "print () #memberikan spasi baris pada matriks yang tercetak\n",
        "print (matriksB)\n",
        "print ()\n",
        "\n",
        "#pengurangan matriksA dengan matriks B\n",
        "for x in range(0, len(matriksA)):\n",
        "    print ()\n",
        "    for y in range(0, len(matriksA[0])):\n",
        "        print (matriksA[x][y] - matriksB[x][y], end=' '),\n",
        "    print ()"
      ],
      "execution_count": 17,
      "outputs": [
        {
          "output_type": "stream",
          "name": "stdout",
          "text": [
            "[[3 3 2 3 2 3 2 1 3 3]\n",
            " [1 3 2 3 3 1 1 2 2 2]\n",
            " [3 1 3 3 1 2 3 3 3 3]\n",
            " [1 1 1 3 3 3 3 2 1 3]\n",
            " [2 1 1 1 2 2 1 3 1 2]\n",
            " [2 2 3 1 3 3 1 1 2 3]]\n",
            "\n",
            "[[1 2 1 2 1 1 1 1 2 2]\n",
            " [1 2 1 2 1 1 1 1 1 1]\n",
            " [1 2 2 2 1 1 2 1 1 1]\n",
            " [2 1 2 1 1 1 2 1 1 2]\n",
            " [1 1 2 2 1 2 1 2 2 1]\n",
            " [1 1 1 2 1 1 2 1 2 2]]\n",
            "\n",
            "\n",
            "2 1 1 1 1 2 1 0 1 1 \n",
            "\n",
            "0 1 1 1 2 0 0 1 1 1 \n",
            "\n",
            "2 -1 1 1 0 1 1 2 2 2 \n",
            "\n",
            "-1 0 -1 2 2 2 1 1 0 1 \n",
            "\n",
            "1 0 -1 -1 1 0 0 1 -1 1 \n",
            "\n",
            "1 1 2 -1 2 2 -1 0 0 1 \n"
          ]
        }
      ]
    },
    {
      "cell_type": "markdown",
      "metadata": {
        "id": "st7qc5uS7lJg"
      },
      "source": [
        "# Latihan (6)\n",
        "\n",
        "Buatlah pengurangan dua matriks dengan menggunakan library Numpy, dengan matriks berukuran 7x9 yang nilainya didapatkan secara random."
      ]
    },
    {
      "cell_type": "code",
      "metadata": {
        "colab": {
          "base_uri": "https://localhost:8080/"
        },
        "id": "FHTF3KuD7lJh",
        "outputId": "27cdcb18-8b2b-46af-cacf-509dc5a1fad4"
      },
      "source": [
        "#Latihan(6)\n",
        "#Pengurangan Matriks\n",
        "import numpy as np\n",
        "matriksA = np.random.randint(6, 10,(7, 9))\n",
        "matriksB = np.random.randint(1, 5,(7, 9))\n",
        "print (matriksA)\n",
        "print () #memberikan spasi baris pada matriks yang tercetak\n",
        "print (matriksB)\n",
        "print ()\n",
        "\n",
        "#pengurangan matriksA dengan matriks B\n",
        "for x in range(0, len(matriksA)):\n",
        "    print ('Hasil Pengurangan matriksA dan matriksB', 'Baris ke-', x+1)\n",
        "    print ()\n",
        "    for y in range(0, len(matriksA[0])):\n",
        "        print (matriksA[x][y] - matriksB[x][y], end=' '),\n",
        "    print ()"
      ],
      "execution_count": 18,
      "outputs": [
        {
          "output_type": "stream",
          "name": "stdout",
          "text": [
            "[[7 6 7 6 6 9 7 6 7]\n",
            " [8 8 6 8 8 8 6 6 8]\n",
            " [6 6 9 6 6 6 9 9 7]\n",
            " [9 8 7 9 6 7 7 7 8]\n",
            " [6 6 7 8 6 8 6 6 8]\n",
            " [7 7 8 6 7 6 8 6 7]\n",
            " [7 7 8 7 8 8 6 8 9]]\n",
            "\n",
            "[[4 2 2 4 2 3 1 4 4]\n",
            " [1 1 1 4 2 3 1 2 2]\n",
            " [4 4 4 4 4 1 3 3 3]\n",
            " [3 1 3 4 2 4 2 3 4]\n",
            " [1 2 4 3 2 1 1 2 3]\n",
            " [2 4 1 1 4 2 2 3 1]\n",
            " [4 4 1 3 3 1 1 4 2]]\n",
            "\n",
            "Hasil Pengurangan matriksA dan matriksB Baris ke- 1\n",
            "\n",
            "3 4 5 2 4 6 6 2 3 \n",
            "Hasil Pengurangan matriksA dan matriksB Baris ke- 2\n",
            "\n",
            "7 7 5 4 6 5 5 4 6 \n",
            "Hasil Pengurangan matriksA dan matriksB Baris ke- 3\n",
            "\n",
            "2 2 5 2 2 5 6 6 4 \n",
            "Hasil Pengurangan matriksA dan matriksB Baris ke- 4\n",
            "\n",
            "6 7 4 5 4 3 5 4 4 \n",
            "Hasil Pengurangan matriksA dan matriksB Baris ke- 5\n",
            "\n",
            "5 4 3 5 4 7 5 4 5 \n",
            "Hasil Pengurangan matriksA dan matriksB Baris ke- 6\n",
            "\n",
            "5 3 7 5 3 4 6 3 6 \n",
            "Hasil Pengurangan matriksA dan matriksB Baris ke- 7\n",
            "\n",
            "3 3 7 4 5 7 5 4 7 \n"
          ]
        }
      ]
    },
    {
      "cell_type": "markdown",
      "metadata": {
        "id": "GB083NhP7lJh"
      },
      "source": [
        "# Penggunaan Library Pandas"
      ]
    },
    {
      "cell_type": "markdown",
      "metadata": {
        "id": "Rx52fX487lJk"
      },
      "source": [
        "# Latihan (7)\n",
        "\n",
        "Lakukan import Library Pandas"
      ]
    },
    {
      "cell_type": "code",
      "metadata": {
        "id": "tUR1-z0K7lJl"
      },
      "source": [
        "#Latihan(7)\n",
        "#Import Library Pandas\n",
        "import pandas as pd"
      ],
      "execution_count": 19,
      "outputs": []
    },
    {
      "cell_type": "markdown",
      "metadata": {
        "id": "43UCBW2R7lJl"
      },
      "source": [
        "# Latihan (8)\n",
        "\n",
        "Panggil file dengan format .csv yang bernama \"cloth_data\""
      ]
    },
    {
      "cell_type": "code",
      "metadata": {
        "id": "m1vnp-X77lJm"
      },
      "source": [
        "#latihan(8)\n",
        "#Panggil file bernama cloth_data.csv\n",
        "cloth = pd.read_csv('cloth_data.csv')"
      ],
      "execution_count": 20,
      "outputs": []
    },
    {
      "cell_type": "markdown",
      "metadata": {
        "id": "1FMB21z_7lJn"
      },
      "source": [
        "# Latihan (9)\n",
        "\n",
        "Tampilkan data dari \"cloth_data\" "
      ]
    },
    {
      "cell_type": "code",
      "metadata": {
        "colab": {
          "base_uri": "https://localhost:8080/",
          "height": 1000
        },
        "id": "BgVcRGD87lJo",
        "outputId": "77087440-f2b1-476f-f59d-c0d246deaa55"
      },
      "source": [
        "#latihan(9)\n",
        "#Tampilkan data dari dataset cloth_data \n",
        "cloth"
      ],
      "execution_count": 21,
      "outputs": [
        {
          "output_type": "execute_result",
          "data": {
            "text/html": [
              "<div>\n",
              "<style scoped>\n",
              "    .dataframe tbody tr th:only-of-type {\n",
              "        vertical-align: middle;\n",
              "    }\n",
              "\n",
              "    .dataframe tbody tr th {\n",
              "        vertical-align: top;\n",
              "    }\n",
              "\n",
              "    .dataframe thead th {\n",
              "        text-align: right;\n",
              "    }\n",
              "</style>\n",
              "<table border=\"1\" class=\"dataframe\">\n",
              "  <thead>\n",
              "    <tr style=\"text-align: right;\">\n",
              "      <th></th>\n",
              "      <th>weight</th>\n",
              "      <th>age</th>\n",
              "      <th>height</th>\n",
              "      <th>size</th>\n",
              "    </tr>\n",
              "  </thead>\n",
              "  <tbody>\n",
              "    <tr>\n",
              "      <th>0</th>\n",
              "      <td>62</td>\n",
              "      <td>28.0</td>\n",
              "      <td>172.72</td>\n",
              "      <td>XL</td>\n",
              "    </tr>\n",
              "    <tr>\n",
              "      <th>1</th>\n",
              "      <td>59</td>\n",
              "      <td>36.0</td>\n",
              "      <td>167.64</td>\n",
              "      <td>L</td>\n",
              "    </tr>\n",
              "    <tr>\n",
              "      <th>2</th>\n",
              "      <td>61</td>\n",
              "      <td>34.0</td>\n",
              "      <td>165.10</td>\n",
              "      <td>M</td>\n",
              "    </tr>\n",
              "    <tr>\n",
              "      <th>3</th>\n",
              "      <td>65</td>\n",
              "      <td>27.0</td>\n",
              "      <td>175.26</td>\n",
              "      <td>L</td>\n",
              "    </tr>\n",
              "    <tr>\n",
              "      <th>4</th>\n",
              "      <td>62</td>\n",
              "      <td>45.0</td>\n",
              "      <td>172.72</td>\n",
              "      <td>M</td>\n",
              "    </tr>\n",
              "    <tr>\n",
              "      <th>5</th>\n",
              "      <td>50</td>\n",
              "      <td>27.0</td>\n",
              "      <td>160.02</td>\n",
              "      <td>S</td>\n",
              "    </tr>\n",
              "    <tr>\n",
              "      <th>6</th>\n",
              "      <td>53</td>\n",
              "      <td>65.0</td>\n",
              "      <td>160.02</td>\n",
              "      <td>M</td>\n",
              "    </tr>\n",
              "    <tr>\n",
              "      <th>7</th>\n",
              "      <td>51</td>\n",
              "      <td>33.0</td>\n",
              "      <td>160.02</td>\n",
              "      <td>XXS</td>\n",
              "    </tr>\n",
              "    <tr>\n",
              "      <th>8</th>\n",
              "      <td>54</td>\n",
              "      <td>26.0</td>\n",
              "      <td>167.64</td>\n",
              "      <td>M</td>\n",
              "    </tr>\n",
              "    <tr>\n",
              "      <th>9</th>\n",
              "      <td>53</td>\n",
              "      <td>32.0</td>\n",
              "      <td>165.10</td>\n",
              "      <td>S</td>\n",
              "    </tr>\n",
              "    <tr>\n",
              "      <th>10</th>\n",
              "      <td>63</td>\n",
              "      <td>30.0</td>\n",
              "      <td>170.18</td>\n",
              "      <td>XXXL</td>\n",
              "    </tr>\n",
              "    <tr>\n",
              "      <th>11</th>\n",
              "      <td>77</td>\n",
              "      <td>35.0</td>\n",
              "      <td>172.72</td>\n",
              "      <td>XXXL</td>\n",
              "    </tr>\n",
              "    <tr>\n",
              "      <th>12</th>\n",
              "      <td>64</td>\n",
              "      <td>26.0</td>\n",
              "      <td>165.10</td>\n",
              "      <td>L</td>\n",
              "    </tr>\n",
              "    <tr>\n",
              "      <th>13</th>\n",
              "      <td>52</td>\n",
              "      <td>28.0</td>\n",
              "      <td>160.02</td>\n",
              "      <td>M</td>\n",
              "    </tr>\n",
              "    <tr>\n",
              "      <th>14</th>\n",
              "      <td>65</td>\n",
              "      <td>33.0</td>\n",
              "      <td>165.10</td>\n",
              "      <td>L</td>\n",
              "    </tr>\n",
              "    <tr>\n",
              "      <th>15</th>\n",
              "      <td>63</td>\n",
              "      <td>30.0</td>\n",
              "      <td>167.64</td>\n",
              "      <td>L</td>\n",
              "    </tr>\n",
              "    <tr>\n",
              "      <th>16</th>\n",
              "      <td>54</td>\n",
              "      <td>21.0</td>\n",
              "      <td>167.64</td>\n",
              "      <td>XXS</td>\n",
              "    </tr>\n",
              "    <tr>\n",
              "      <th>17</th>\n",
              "      <td>63</td>\n",
              "      <td>27.0</td>\n",
              "      <td>172.72</td>\n",
              "      <td>M</td>\n",
              "    </tr>\n",
              "    <tr>\n",
              "      <th>18</th>\n",
              "      <td>63</td>\n",
              "      <td>30.0</td>\n",
              "      <td>167.64</td>\n",
              "      <td>M</td>\n",
              "    </tr>\n",
              "    <tr>\n",
              "      <th>19</th>\n",
              "      <td>54</td>\n",
              "      <td>20.0</td>\n",
              "      <td>167.64</td>\n",
              "      <td>S</td>\n",
              "    </tr>\n",
              "    <tr>\n",
              "      <th>20</th>\n",
              "      <td>55</td>\n",
              "      <td>32.0</td>\n",
              "      <td>154.94</td>\n",
              "      <td>S</td>\n",
              "    </tr>\n",
              "    <tr>\n",
              "      <th>21</th>\n",
              "      <td>55</td>\n",
              "      <td>37.0</td>\n",
              "      <td>160.02</td>\n",
              "      <td>M</td>\n",
              "    </tr>\n",
              "    <tr>\n",
              "      <th>22</th>\n",
              "      <td>55</td>\n",
              "      <td>50.0</td>\n",
              "      <td>165.10</td>\n",
              "      <td>S</td>\n",
              "    </tr>\n",
              "    <tr>\n",
              "      <th>23</th>\n",
              "      <td>50</td>\n",
              "      <td>43.0</td>\n",
              "      <td>160.02</td>\n",
              "      <td>M</td>\n",
              "    </tr>\n",
              "    <tr>\n",
              "      <th>24</th>\n",
              "      <td>74</td>\n",
              "      <td>29.0</td>\n",
              "      <td>177.80</td>\n",
              "      <td>XL</td>\n",
              "    </tr>\n",
              "    <tr>\n",
              "      <th>25</th>\n",
              "      <td>64</td>\n",
              "      <td>32.0</td>\n",
              "      <td>160.02</td>\n",
              "      <td>XL</td>\n",
              "    </tr>\n",
              "    <tr>\n",
              "      <th>26</th>\n",
              "      <td>58</td>\n",
              "      <td>29.0</td>\n",
              "      <td>167.64</td>\n",
              "      <td>XXS</td>\n",
              "    </tr>\n",
              "    <tr>\n",
              "      <th>27</th>\n",
              "      <td>54</td>\n",
              "      <td>47.0</td>\n",
              "      <td>165.10</td>\n",
              "      <td>M</td>\n",
              "    </tr>\n",
              "    <tr>\n",
              "      <th>28</th>\n",
              "      <td>58</td>\n",
              "      <td>31.0</td>\n",
              "      <td>154.94</td>\n",
              "      <td>XL</td>\n",
              "    </tr>\n",
              "    <tr>\n",
              "      <th>29</th>\n",
              "      <td>65</td>\n",
              "      <td>27.0</td>\n",
              "      <td>172.72</td>\n",
              "      <td>L</td>\n",
              "    </tr>\n",
              "    <tr>\n",
              "      <th>30</th>\n",
              "      <td>47</td>\n",
              "      <td>43.0</td>\n",
              "      <td>157.48</td>\n",
              "      <td>S</td>\n",
              "    </tr>\n",
              "    <tr>\n",
              "      <th>31</th>\n",
              "      <td>61</td>\n",
              "      <td>27.0</td>\n",
              "      <td>165.10</td>\n",
              "      <td>M</td>\n",
              "    </tr>\n",
              "    <tr>\n",
              "      <th>32</th>\n",
              "      <td>58</td>\n",
              "      <td>29.0</td>\n",
              "      <td>172.72</td>\n",
              "      <td>M</td>\n",
              "    </tr>\n",
              "    <tr>\n",
              "      <th>33</th>\n",
              "      <td>86</td>\n",
              "      <td>48.0</td>\n",
              "      <td>172.72</td>\n",
              "      <td>XXXL</td>\n",
              "    </tr>\n",
              "    <tr>\n",
              "      <th>34</th>\n",
              "      <td>68</td>\n",
              "      <td>36.0</td>\n",
              "      <td>162.56</td>\n",
              "      <td>XL</td>\n",
              "    </tr>\n",
              "    <tr>\n",
              "      <th>35</th>\n",
              "      <td>65</td>\n",
              "      <td>27.0</td>\n",
              "      <td>170.18</td>\n",
              "      <td>L</td>\n",
              "    </tr>\n",
              "    <tr>\n",
              "      <th>36</th>\n",
              "      <td>65</td>\n",
              "      <td>34.0</td>\n",
              "      <td>170.18</td>\n",
              "      <td>L</td>\n",
              "    </tr>\n",
              "    <tr>\n",
              "      <th>37</th>\n",
              "      <td>54</td>\n",
              "      <td>40.0</td>\n",
              "      <td>157.48</td>\n",
              "      <td>M</td>\n",
              "    </tr>\n",
              "    <tr>\n",
              "      <th>38</th>\n",
              "      <td>52</td>\n",
              "      <td>45.0</td>\n",
              "      <td>154.94</td>\n",
              "      <td>M</td>\n",
              "    </tr>\n",
              "    <tr>\n",
              "      <th>39</th>\n",
              "      <td>52</td>\n",
              "      <td>30.0</td>\n",
              "      <td>170.18</td>\n",
              "      <td>S</td>\n",
              "    </tr>\n",
              "    <tr>\n",
              "      <th>40</th>\n",
              "      <td>58</td>\n",
              "      <td>52.0</td>\n",
              "      <td>162.56</td>\n",
              "      <td>XXXL</td>\n",
              "    </tr>\n",
              "    <tr>\n",
              "      <th>41</th>\n",
              "      <td>78</td>\n",
              "      <td>37.0</td>\n",
              "      <td>175.26</td>\n",
              "      <td>XXXL</td>\n",
              "    </tr>\n",
              "    <tr>\n",
              "      <th>42</th>\n",
              "      <td>61</td>\n",
              "      <td>34.0</td>\n",
              "      <td>172.72</td>\n",
              "      <td>L</td>\n",
              "    </tr>\n",
              "    <tr>\n",
              "      <th>43</th>\n",
              "      <td>49</td>\n",
              "      <td>24.0</td>\n",
              "      <td>167.64</td>\n",
              "      <td>S</td>\n",
              "    </tr>\n",
              "    <tr>\n",
              "      <th>44</th>\n",
              "      <td>61</td>\n",
              "      <td>28.0</td>\n",
              "      <td>162.56</td>\n",
              "      <td>M</td>\n",
              "    </tr>\n",
              "    <tr>\n",
              "      <th>45</th>\n",
              "      <td>64</td>\n",
              "      <td>34.0</td>\n",
              "      <td>162.56</td>\n",
              "      <td>XXXL</td>\n",
              "    </tr>\n",
              "    <tr>\n",
              "      <th>46</th>\n",
              "      <td>63</td>\n",
              "      <td>25.0</td>\n",
              "      <td>167.64</td>\n",
              "      <td>S</td>\n",
              "    </tr>\n",
              "    <tr>\n",
              "      <th>47</th>\n",
              "      <td>56</td>\n",
              "      <td>32.0</td>\n",
              "      <td>157.48</td>\n",
              "      <td>M</td>\n",
              "    </tr>\n",
              "    <tr>\n",
              "      <th>48</th>\n",
              "      <td>50</td>\n",
              "      <td>27.0</td>\n",
              "      <td>170.18</td>\n",
              "      <td>S</td>\n",
              "    </tr>\n",
              "    <tr>\n",
              "      <th>49</th>\n",
              "      <td>77</td>\n",
              "      <td>29.0</td>\n",
              "      <td>172.72</td>\n",
              "      <td>XXXL</td>\n",
              "    </tr>\n",
              "  </tbody>\n",
              "</table>\n",
              "</div>"
            ],
            "text/plain": [
              "    weight   age  height  size\n",
              "0       62  28.0  172.72    XL\n",
              "1       59  36.0  167.64     L\n",
              "2       61  34.0  165.10     M\n",
              "3       65  27.0  175.26     L\n",
              "4       62  45.0  172.72     M\n",
              "5       50  27.0  160.02     S\n",
              "6       53  65.0  160.02     M\n",
              "7       51  33.0  160.02   XXS\n",
              "8       54  26.0  167.64     M\n",
              "9       53  32.0  165.10     S\n",
              "10      63  30.0  170.18  XXXL\n",
              "11      77  35.0  172.72  XXXL\n",
              "12      64  26.0  165.10     L\n",
              "13      52  28.0  160.02     M\n",
              "14      65  33.0  165.10     L\n",
              "15      63  30.0  167.64     L\n",
              "16      54  21.0  167.64   XXS\n",
              "17      63  27.0  172.72     M\n",
              "18      63  30.0  167.64     M\n",
              "19      54  20.0  167.64     S\n",
              "20      55  32.0  154.94     S\n",
              "21      55  37.0  160.02     M\n",
              "22      55  50.0  165.10     S\n",
              "23      50  43.0  160.02     M\n",
              "24      74  29.0  177.80    XL\n",
              "25      64  32.0  160.02    XL\n",
              "26      58  29.0  167.64   XXS\n",
              "27      54  47.0  165.10     M\n",
              "28      58  31.0  154.94    XL\n",
              "29      65  27.0  172.72     L\n",
              "30      47  43.0  157.48     S\n",
              "31      61  27.0  165.10     M\n",
              "32      58  29.0  172.72     M\n",
              "33      86  48.0  172.72  XXXL\n",
              "34      68  36.0  162.56    XL\n",
              "35      65  27.0  170.18     L\n",
              "36      65  34.0  170.18     L\n",
              "37      54  40.0  157.48     M\n",
              "38      52  45.0  154.94     M\n",
              "39      52  30.0  170.18     S\n",
              "40      58  52.0  162.56  XXXL\n",
              "41      78  37.0  175.26  XXXL\n",
              "42      61  34.0  172.72     L\n",
              "43      49  24.0  167.64     S\n",
              "44      61  28.0  162.56     M\n",
              "45      64  34.0  162.56  XXXL\n",
              "46      63  25.0  167.64     S\n",
              "47      56  32.0  157.48     M\n",
              "48      50  27.0  170.18     S\n",
              "49      77  29.0  172.72  XXXL"
            ]
          },
          "metadata": {},
          "execution_count": 21
        }
      ]
    },
    {
      "cell_type": "markdown",
      "metadata": {
        "id": "eQzJt0PM7lJo"
      },
      "source": [
        "# Latihan (10)\n",
        "\n",
        "Tampilkan data dari \"cloth_data\" mulai dari indeks 0 (nol) sampai dengan indeks 10 (sepuluh)"
      ]
    },
    {
      "cell_type": "code",
      "metadata": {
        "colab": {
          "base_uri": "https://localhost:8080/",
          "height": 390
        },
        "id": "CQd3jtpG7lJp",
        "outputId": "e00e53a7-eee6-421c-a88b-c520b4a4b286"
      },
      "source": [
        "#Latihan(10)\n",
        "#Tampilkan data dari \"cloth_data\" mulai dari indeks 0 (nol) sampai dengan indeks 10 (sepuluh)\n",
        "cloth.head(11)"
      ],
      "execution_count": 22,
      "outputs": [
        {
          "output_type": "execute_result",
          "data": {
            "text/html": [
              "<div>\n",
              "<style scoped>\n",
              "    .dataframe tbody tr th:only-of-type {\n",
              "        vertical-align: middle;\n",
              "    }\n",
              "\n",
              "    .dataframe tbody tr th {\n",
              "        vertical-align: top;\n",
              "    }\n",
              "\n",
              "    .dataframe thead th {\n",
              "        text-align: right;\n",
              "    }\n",
              "</style>\n",
              "<table border=\"1\" class=\"dataframe\">\n",
              "  <thead>\n",
              "    <tr style=\"text-align: right;\">\n",
              "      <th></th>\n",
              "      <th>weight</th>\n",
              "      <th>age</th>\n",
              "      <th>height</th>\n",
              "      <th>size</th>\n",
              "    </tr>\n",
              "  </thead>\n",
              "  <tbody>\n",
              "    <tr>\n",
              "      <th>0</th>\n",
              "      <td>62</td>\n",
              "      <td>28.0</td>\n",
              "      <td>172.72</td>\n",
              "      <td>XL</td>\n",
              "    </tr>\n",
              "    <tr>\n",
              "      <th>1</th>\n",
              "      <td>59</td>\n",
              "      <td>36.0</td>\n",
              "      <td>167.64</td>\n",
              "      <td>L</td>\n",
              "    </tr>\n",
              "    <tr>\n",
              "      <th>2</th>\n",
              "      <td>61</td>\n",
              "      <td>34.0</td>\n",
              "      <td>165.10</td>\n",
              "      <td>M</td>\n",
              "    </tr>\n",
              "    <tr>\n",
              "      <th>3</th>\n",
              "      <td>65</td>\n",
              "      <td>27.0</td>\n",
              "      <td>175.26</td>\n",
              "      <td>L</td>\n",
              "    </tr>\n",
              "    <tr>\n",
              "      <th>4</th>\n",
              "      <td>62</td>\n",
              "      <td>45.0</td>\n",
              "      <td>172.72</td>\n",
              "      <td>M</td>\n",
              "    </tr>\n",
              "    <tr>\n",
              "      <th>5</th>\n",
              "      <td>50</td>\n",
              "      <td>27.0</td>\n",
              "      <td>160.02</td>\n",
              "      <td>S</td>\n",
              "    </tr>\n",
              "    <tr>\n",
              "      <th>6</th>\n",
              "      <td>53</td>\n",
              "      <td>65.0</td>\n",
              "      <td>160.02</td>\n",
              "      <td>M</td>\n",
              "    </tr>\n",
              "    <tr>\n",
              "      <th>7</th>\n",
              "      <td>51</td>\n",
              "      <td>33.0</td>\n",
              "      <td>160.02</td>\n",
              "      <td>XXS</td>\n",
              "    </tr>\n",
              "    <tr>\n",
              "      <th>8</th>\n",
              "      <td>54</td>\n",
              "      <td>26.0</td>\n",
              "      <td>167.64</td>\n",
              "      <td>M</td>\n",
              "    </tr>\n",
              "    <tr>\n",
              "      <th>9</th>\n",
              "      <td>53</td>\n",
              "      <td>32.0</td>\n",
              "      <td>165.10</td>\n",
              "      <td>S</td>\n",
              "    </tr>\n",
              "    <tr>\n",
              "      <th>10</th>\n",
              "      <td>63</td>\n",
              "      <td>30.0</td>\n",
              "      <td>170.18</td>\n",
              "      <td>XXXL</td>\n",
              "    </tr>\n",
              "  </tbody>\n",
              "</table>\n",
              "</div>"
            ],
            "text/plain": [
              "    weight   age  height  size\n",
              "0       62  28.0  172.72    XL\n",
              "1       59  36.0  167.64     L\n",
              "2       61  34.0  165.10     M\n",
              "3       65  27.0  175.26     L\n",
              "4       62  45.0  172.72     M\n",
              "5       50  27.0  160.02     S\n",
              "6       53  65.0  160.02     M\n",
              "7       51  33.0  160.02   XXS\n",
              "8       54  26.0  167.64     M\n",
              "9       53  32.0  165.10     S\n",
              "10      63  30.0  170.18  XXXL"
            ]
          },
          "metadata": {},
          "execution_count": 22
        }
      ]
    },
    {
      "cell_type": "markdown",
      "metadata": {
        "id": "HpmFxdx-7lJq"
      },
      "source": [
        "# Latihan (11)\n",
        "\n",
        "Tampilkan data dari \"cloth_data\" untuk kolom age dan size"
      ]
    },
    {
      "cell_type": "code",
      "metadata": {
        "colab": {
          "base_uri": "https://localhost:8080/",
          "height": 1000
        },
        "id": "nWR1e_-n7lJq",
        "outputId": "9178d409-900d-40b5-9687-b3a5db2a3826"
      },
      "source": [
        "#Latihan(11)\n",
        "#Tampilkan data dari \"cloth_data\" untuk kolom age dan size\n",
        "cloth[['age', 'size']]"
      ],
      "execution_count": 23,
      "outputs": [
        {
          "output_type": "execute_result",
          "data": {
            "text/html": [
              "<div>\n",
              "<style scoped>\n",
              "    .dataframe tbody tr th:only-of-type {\n",
              "        vertical-align: middle;\n",
              "    }\n",
              "\n",
              "    .dataframe tbody tr th {\n",
              "        vertical-align: top;\n",
              "    }\n",
              "\n",
              "    .dataframe thead th {\n",
              "        text-align: right;\n",
              "    }\n",
              "</style>\n",
              "<table border=\"1\" class=\"dataframe\">\n",
              "  <thead>\n",
              "    <tr style=\"text-align: right;\">\n",
              "      <th></th>\n",
              "      <th>age</th>\n",
              "      <th>size</th>\n",
              "    </tr>\n",
              "  </thead>\n",
              "  <tbody>\n",
              "    <tr>\n",
              "      <th>0</th>\n",
              "      <td>28.0</td>\n",
              "      <td>XL</td>\n",
              "    </tr>\n",
              "    <tr>\n",
              "      <th>1</th>\n",
              "      <td>36.0</td>\n",
              "      <td>L</td>\n",
              "    </tr>\n",
              "    <tr>\n",
              "      <th>2</th>\n",
              "      <td>34.0</td>\n",
              "      <td>M</td>\n",
              "    </tr>\n",
              "    <tr>\n",
              "      <th>3</th>\n",
              "      <td>27.0</td>\n",
              "      <td>L</td>\n",
              "    </tr>\n",
              "    <tr>\n",
              "      <th>4</th>\n",
              "      <td>45.0</td>\n",
              "      <td>M</td>\n",
              "    </tr>\n",
              "    <tr>\n",
              "      <th>5</th>\n",
              "      <td>27.0</td>\n",
              "      <td>S</td>\n",
              "    </tr>\n",
              "    <tr>\n",
              "      <th>6</th>\n",
              "      <td>65.0</td>\n",
              "      <td>M</td>\n",
              "    </tr>\n",
              "    <tr>\n",
              "      <th>7</th>\n",
              "      <td>33.0</td>\n",
              "      <td>XXS</td>\n",
              "    </tr>\n",
              "    <tr>\n",
              "      <th>8</th>\n",
              "      <td>26.0</td>\n",
              "      <td>M</td>\n",
              "    </tr>\n",
              "    <tr>\n",
              "      <th>9</th>\n",
              "      <td>32.0</td>\n",
              "      <td>S</td>\n",
              "    </tr>\n",
              "    <tr>\n",
              "      <th>10</th>\n",
              "      <td>30.0</td>\n",
              "      <td>XXXL</td>\n",
              "    </tr>\n",
              "    <tr>\n",
              "      <th>11</th>\n",
              "      <td>35.0</td>\n",
              "      <td>XXXL</td>\n",
              "    </tr>\n",
              "    <tr>\n",
              "      <th>12</th>\n",
              "      <td>26.0</td>\n",
              "      <td>L</td>\n",
              "    </tr>\n",
              "    <tr>\n",
              "      <th>13</th>\n",
              "      <td>28.0</td>\n",
              "      <td>M</td>\n",
              "    </tr>\n",
              "    <tr>\n",
              "      <th>14</th>\n",
              "      <td>33.0</td>\n",
              "      <td>L</td>\n",
              "    </tr>\n",
              "    <tr>\n",
              "      <th>15</th>\n",
              "      <td>30.0</td>\n",
              "      <td>L</td>\n",
              "    </tr>\n",
              "    <tr>\n",
              "      <th>16</th>\n",
              "      <td>21.0</td>\n",
              "      <td>XXS</td>\n",
              "    </tr>\n",
              "    <tr>\n",
              "      <th>17</th>\n",
              "      <td>27.0</td>\n",
              "      <td>M</td>\n",
              "    </tr>\n",
              "    <tr>\n",
              "      <th>18</th>\n",
              "      <td>30.0</td>\n",
              "      <td>M</td>\n",
              "    </tr>\n",
              "    <tr>\n",
              "      <th>19</th>\n",
              "      <td>20.0</td>\n",
              "      <td>S</td>\n",
              "    </tr>\n",
              "    <tr>\n",
              "      <th>20</th>\n",
              "      <td>32.0</td>\n",
              "      <td>S</td>\n",
              "    </tr>\n",
              "    <tr>\n",
              "      <th>21</th>\n",
              "      <td>37.0</td>\n",
              "      <td>M</td>\n",
              "    </tr>\n",
              "    <tr>\n",
              "      <th>22</th>\n",
              "      <td>50.0</td>\n",
              "      <td>S</td>\n",
              "    </tr>\n",
              "    <tr>\n",
              "      <th>23</th>\n",
              "      <td>43.0</td>\n",
              "      <td>M</td>\n",
              "    </tr>\n",
              "    <tr>\n",
              "      <th>24</th>\n",
              "      <td>29.0</td>\n",
              "      <td>XL</td>\n",
              "    </tr>\n",
              "    <tr>\n",
              "      <th>25</th>\n",
              "      <td>32.0</td>\n",
              "      <td>XL</td>\n",
              "    </tr>\n",
              "    <tr>\n",
              "      <th>26</th>\n",
              "      <td>29.0</td>\n",
              "      <td>XXS</td>\n",
              "    </tr>\n",
              "    <tr>\n",
              "      <th>27</th>\n",
              "      <td>47.0</td>\n",
              "      <td>M</td>\n",
              "    </tr>\n",
              "    <tr>\n",
              "      <th>28</th>\n",
              "      <td>31.0</td>\n",
              "      <td>XL</td>\n",
              "    </tr>\n",
              "    <tr>\n",
              "      <th>29</th>\n",
              "      <td>27.0</td>\n",
              "      <td>L</td>\n",
              "    </tr>\n",
              "    <tr>\n",
              "      <th>30</th>\n",
              "      <td>43.0</td>\n",
              "      <td>S</td>\n",
              "    </tr>\n",
              "    <tr>\n",
              "      <th>31</th>\n",
              "      <td>27.0</td>\n",
              "      <td>M</td>\n",
              "    </tr>\n",
              "    <tr>\n",
              "      <th>32</th>\n",
              "      <td>29.0</td>\n",
              "      <td>M</td>\n",
              "    </tr>\n",
              "    <tr>\n",
              "      <th>33</th>\n",
              "      <td>48.0</td>\n",
              "      <td>XXXL</td>\n",
              "    </tr>\n",
              "    <tr>\n",
              "      <th>34</th>\n",
              "      <td>36.0</td>\n",
              "      <td>XL</td>\n",
              "    </tr>\n",
              "    <tr>\n",
              "      <th>35</th>\n",
              "      <td>27.0</td>\n",
              "      <td>L</td>\n",
              "    </tr>\n",
              "    <tr>\n",
              "      <th>36</th>\n",
              "      <td>34.0</td>\n",
              "      <td>L</td>\n",
              "    </tr>\n",
              "    <tr>\n",
              "      <th>37</th>\n",
              "      <td>40.0</td>\n",
              "      <td>M</td>\n",
              "    </tr>\n",
              "    <tr>\n",
              "      <th>38</th>\n",
              "      <td>45.0</td>\n",
              "      <td>M</td>\n",
              "    </tr>\n",
              "    <tr>\n",
              "      <th>39</th>\n",
              "      <td>30.0</td>\n",
              "      <td>S</td>\n",
              "    </tr>\n",
              "    <tr>\n",
              "      <th>40</th>\n",
              "      <td>52.0</td>\n",
              "      <td>XXXL</td>\n",
              "    </tr>\n",
              "    <tr>\n",
              "      <th>41</th>\n",
              "      <td>37.0</td>\n",
              "      <td>XXXL</td>\n",
              "    </tr>\n",
              "    <tr>\n",
              "      <th>42</th>\n",
              "      <td>34.0</td>\n",
              "      <td>L</td>\n",
              "    </tr>\n",
              "    <tr>\n",
              "      <th>43</th>\n",
              "      <td>24.0</td>\n",
              "      <td>S</td>\n",
              "    </tr>\n",
              "    <tr>\n",
              "      <th>44</th>\n",
              "      <td>28.0</td>\n",
              "      <td>M</td>\n",
              "    </tr>\n",
              "    <tr>\n",
              "      <th>45</th>\n",
              "      <td>34.0</td>\n",
              "      <td>XXXL</td>\n",
              "    </tr>\n",
              "    <tr>\n",
              "      <th>46</th>\n",
              "      <td>25.0</td>\n",
              "      <td>S</td>\n",
              "    </tr>\n",
              "    <tr>\n",
              "      <th>47</th>\n",
              "      <td>32.0</td>\n",
              "      <td>M</td>\n",
              "    </tr>\n",
              "    <tr>\n",
              "      <th>48</th>\n",
              "      <td>27.0</td>\n",
              "      <td>S</td>\n",
              "    </tr>\n",
              "    <tr>\n",
              "      <th>49</th>\n",
              "      <td>29.0</td>\n",
              "      <td>XXXL</td>\n",
              "    </tr>\n",
              "  </tbody>\n",
              "</table>\n",
              "</div>"
            ],
            "text/plain": [
              "     age  size\n",
              "0   28.0    XL\n",
              "1   36.0     L\n",
              "2   34.0     M\n",
              "3   27.0     L\n",
              "4   45.0     M\n",
              "5   27.0     S\n",
              "6   65.0     M\n",
              "7   33.0   XXS\n",
              "8   26.0     M\n",
              "9   32.0     S\n",
              "10  30.0  XXXL\n",
              "11  35.0  XXXL\n",
              "12  26.0     L\n",
              "13  28.0     M\n",
              "14  33.0     L\n",
              "15  30.0     L\n",
              "16  21.0   XXS\n",
              "17  27.0     M\n",
              "18  30.0     M\n",
              "19  20.0     S\n",
              "20  32.0     S\n",
              "21  37.0     M\n",
              "22  50.0     S\n",
              "23  43.0     M\n",
              "24  29.0    XL\n",
              "25  32.0    XL\n",
              "26  29.0   XXS\n",
              "27  47.0     M\n",
              "28  31.0    XL\n",
              "29  27.0     L\n",
              "30  43.0     S\n",
              "31  27.0     M\n",
              "32  29.0     M\n",
              "33  48.0  XXXL\n",
              "34  36.0    XL\n",
              "35  27.0     L\n",
              "36  34.0     L\n",
              "37  40.0     M\n",
              "38  45.0     M\n",
              "39  30.0     S\n",
              "40  52.0  XXXL\n",
              "41  37.0  XXXL\n",
              "42  34.0     L\n",
              "43  24.0     S\n",
              "44  28.0     M\n",
              "45  34.0  XXXL\n",
              "46  25.0     S\n",
              "47  32.0     M\n",
              "48  27.0     S\n",
              "49  29.0  XXXL"
            ]
          },
          "metadata": {},
          "execution_count": 23
        }
      ]
    },
    {
      "cell_type": "markdown",
      "metadata": {
        "id": "5hq1nMSh7lJq"
      },
      "source": [
        "# Latihan (12)\n",
        "\n",
        "Tampilkan data dari \"cloth_data\" untuk kolom age dan size, mulai dari indeks 0 (nol) sampai dengan indeks 10 (sepuluh)"
      ]
    },
    {
      "cell_type": "code",
      "metadata": {
        "colab": {
          "base_uri": "https://localhost:8080/",
          "height": 390
        },
        "id": "RXS-R3S57lJr",
        "outputId": "b0dc0486-cd6b-4fdb-cc05-2636483417be"
      },
      "source": [
        "#Latihan(12)\n",
        "#Tampilkan data dari \"cloth_data\" untuk kolom age dan size, mulai dari indeks 0 (nol) sampai dengan indeks 10 (sepuluh)\n",
        "cloth[['age', 'size']].head(11)"
      ],
      "execution_count": 24,
      "outputs": [
        {
          "output_type": "execute_result",
          "data": {
            "text/html": [
              "<div>\n",
              "<style scoped>\n",
              "    .dataframe tbody tr th:only-of-type {\n",
              "        vertical-align: middle;\n",
              "    }\n",
              "\n",
              "    .dataframe tbody tr th {\n",
              "        vertical-align: top;\n",
              "    }\n",
              "\n",
              "    .dataframe thead th {\n",
              "        text-align: right;\n",
              "    }\n",
              "</style>\n",
              "<table border=\"1\" class=\"dataframe\">\n",
              "  <thead>\n",
              "    <tr style=\"text-align: right;\">\n",
              "      <th></th>\n",
              "      <th>age</th>\n",
              "      <th>size</th>\n",
              "    </tr>\n",
              "  </thead>\n",
              "  <tbody>\n",
              "    <tr>\n",
              "      <th>0</th>\n",
              "      <td>28.0</td>\n",
              "      <td>XL</td>\n",
              "    </tr>\n",
              "    <tr>\n",
              "      <th>1</th>\n",
              "      <td>36.0</td>\n",
              "      <td>L</td>\n",
              "    </tr>\n",
              "    <tr>\n",
              "      <th>2</th>\n",
              "      <td>34.0</td>\n",
              "      <td>M</td>\n",
              "    </tr>\n",
              "    <tr>\n",
              "      <th>3</th>\n",
              "      <td>27.0</td>\n",
              "      <td>L</td>\n",
              "    </tr>\n",
              "    <tr>\n",
              "      <th>4</th>\n",
              "      <td>45.0</td>\n",
              "      <td>M</td>\n",
              "    </tr>\n",
              "    <tr>\n",
              "      <th>5</th>\n",
              "      <td>27.0</td>\n",
              "      <td>S</td>\n",
              "    </tr>\n",
              "    <tr>\n",
              "      <th>6</th>\n",
              "      <td>65.0</td>\n",
              "      <td>M</td>\n",
              "    </tr>\n",
              "    <tr>\n",
              "      <th>7</th>\n",
              "      <td>33.0</td>\n",
              "      <td>XXS</td>\n",
              "    </tr>\n",
              "    <tr>\n",
              "      <th>8</th>\n",
              "      <td>26.0</td>\n",
              "      <td>M</td>\n",
              "    </tr>\n",
              "    <tr>\n",
              "      <th>9</th>\n",
              "      <td>32.0</td>\n",
              "      <td>S</td>\n",
              "    </tr>\n",
              "    <tr>\n",
              "      <th>10</th>\n",
              "      <td>30.0</td>\n",
              "      <td>XXXL</td>\n",
              "    </tr>\n",
              "  </tbody>\n",
              "</table>\n",
              "</div>"
            ],
            "text/plain": [
              "     age  size\n",
              "0   28.0    XL\n",
              "1   36.0     L\n",
              "2   34.0     M\n",
              "3   27.0     L\n",
              "4   45.0     M\n",
              "5   27.0     S\n",
              "6   65.0     M\n",
              "7   33.0   XXS\n",
              "8   26.0     M\n",
              "9   32.0     S\n",
              "10  30.0  XXXL"
            ]
          },
          "metadata": {},
          "execution_count": 24
        }
      ]
    },
    {
      "cell_type": "markdown",
      "metadata": {
        "id": "o5unAwpN7lJs"
      },
      "source": [
        "# Penggunaan Library Matplotlib"
      ]
    },
    {
      "cell_type": "markdown",
      "metadata": {
        "id": "xLF2_U5g7lJs"
      },
      "source": [
        "# Latihan (13)\n",
        "\n",
        "Lakukan import Library Matplotlib"
      ]
    },
    {
      "cell_type": "code",
      "metadata": {
        "id": "H-LTcPvq7lJt"
      },
      "source": [
        "#Latihan(13)\n",
        "#Import Library Matplotlib\n",
        "import matplotlib.pyplot as plt"
      ],
      "execution_count": 25,
      "outputs": []
    },
    {
      "cell_type": "markdown",
      "metadata": {
        "id": "koATJzNs7lJt"
      },
      "source": [
        "# Latihan (14)\n",
        "\n",
        "Buatlah visualisasi dalam bentuk histogram pada data \"cloth_data\" untuk kolom size"
      ]
    },
    {
      "cell_type": "code",
      "metadata": {
        "colab": {
          "base_uri": "https://localhost:8080/",
          "height": 316
        },
        "id": "AY1xRCaI7lJu",
        "outputId": "79fb3740-ef2d-4f93-a297-413b70819e96"
      },
      "source": [
        "#Latihan(14)\n",
        "#Buat histogram untuk kolom size\n",
        "size = cloth['size']\n",
        "plt.hist(size)"
      ],
      "execution_count": 26,
      "outputs": [
        {
          "output_type": "execute_result",
          "data": {
            "text/plain": [
              "(array([ 5.,  0.,  9.,  0., 16.,  0., 10.,  0.,  3.,  7.]),\n",
              " array([0. , 0.5, 1. , 1.5, 2. , 2.5, 3. , 3.5, 4. , 4.5, 5. ]),\n",
              " <a list of 10 Patch objects>)"
            ]
          },
          "metadata": {},
          "execution_count": 26
        },
        {
          "output_type": "display_data",
          "data": {
            "image/png": "[encoded data removed]",
            "text/plain": [
              "<Figure size 432x288 with 1 Axes>"
            ]
          },
          "metadata": {
            "needs_background": "light"
          }
        }
      ]
    },
    {
      "cell_type": "markdown",
      "metadata": {
        "id": "objSPAE17lJv"
      },
      "source": [
        "# Latihan (15)\n",
        "\n",
        "Buatlah visualisasi dalam bentuk grafik (plot) pada data \"cloth_data\" untuk kolom age dan kolom size"
      ]
    },
    {
      "cell_type": "code",
      "metadata": {
        "colab": {
          "base_uri": "https://localhost:8080/",
          "height": 265
        },
        "id": "l7i-kkK67lJw",
        "outputId": "c3a2e62a-1db7-4187-91d4-49e8dba8042f"
      },
      "source": [
        "#Latihan(15)\n",
        "#Visualisasi dalam bentuk grafik (plot) pada data \"cloth_data\" untuk kolom age dan kolom size\n",
        "age = cloth['age']\n",
        "size = cloth['size']\n",
        "plt.plot(age, size)\n",
        "plt.show()"
      ],
      "execution_count": 27,
      "outputs": [
        {
          "output_type": "display_data",
          "data": {
            "image/png": "[encoded data removed]",
            "text/plain": [
              "<Figure size 432x288 with 1 Axes>"
            ]
          },
          "metadata": {
            "needs_background": "light"
          }
        }
      ]
    },
    {
      "cell_type": "markdown",
      "metadata": {
        "id": "K7w4tngy7lJx"
      },
      "source": [
        "# Latihan (16)\n",
        "\n",
        "Buatlah visualisasi dalam bentuk grafik (plot) pada data \"cloth_data\" untuk kolom size dan kolom age"
      ]
    },
    {
      "cell_type": "code",
      "metadata": {
        "colab": {
          "base_uri": "https://localhost:8080/",
          "height": 265
        },
        "id": "YYpIpjTp7lJy",
        "outputId": "6779f0fd-7b96-44e6-9e00-4dac4e414122"
      },
      "source": [
        "#Latihan(16)\n",
        "#Visualisasi dalam bentuk grafik (plot) pada data \"cloth_data\" untuk kolom size dan kolom age\n",
        "age = cloth['age']\n",
        "size = cloth['size']\n",
        "plt.plot(size, age)\n",
        "plt.show()"
      ],
      "execution_count": 28,
      "outputs": [
        {
          "output_type": "display_data",
          "data": {
            "image/png": "[encoded data removed]",
            "text/plain": [
              "<Figure size 432x288 with 1 Axes>"
            ]
          },
          "metadata": {
            "needs_background": "light"
          }
        }
      ]
    },
    {
      "cell_type": "markdown",
      "metadata": {
        "id": "Gt5_FSSD7lJz"
      },
      "source": [
        "# Latihan (17)\n",
        "\n",
        "Import library seaborn"
      ]
    },
    {
      "cell_type": "code",
      "metadata": {
        "id": "m6mhrajY7lJz"
      },
      "source": [
        "#Latihan(17)\n",
        "#Import library seaborn\n",
        "import seaborn as sns"
      ],
      "execution_count": 29,
      "outputs": []
    },
    {
      "cell_type": "markdown",
      "metadata": {
        "id": "r31eCPfj7lJ0"
      },
      "source": [
        "# Latihan (18)\n",
        "\n",
        "Buatlah visualisasi dalam bentuk scatterplot pada data \"cloth_data\" untuk kolom age dan kolom size"
      ]
    },
    {
      "cell_type": "code",
      "metadata": {
        "colab": {
          "base_uri": "https://localhost:8080/",
          "height": 282
        },
        "id": "By0bXYBZ7lJ0",
        "outputId": "25bcb62b-f089-40b3-cabd-0336b1ecca69"
      },
      "source": [
        "#latihan(18)\n",
        "#Buat scatterplot dengan kolom age dan size\n",
        "age = cloth['age']\n",
        "size = cloth['size']\n",
        "plt.scatter(age, size)"
      ],
      "execution_count": 30,
      "outputs": [
        {
          "output_type": "execute_result",
          "data": {
            "text/plain": [
              "<matplotlib.collections.PathCollection at 0x7fda68540790>"
            ]
          },
          "metadata": {},
          "execution_count": 30
        },
        {
          "output_type": "display_data",
          "data": {
            "image/png": "[encoded data removed]",
            "text/plain": [
              "<Figure size 432x288 with 1 Axes>"
            ]
          },
          "metadata": {
            "needs_background": "light"
          }
        }
      ]
    },
    {
      "cell_type": "markdown",
      "metadata": {
        "id": "nzrDDNwt7lJ0"
      },
      "source": [
        "# Latihan (19)\n",
        "\n",
        "Buatlah visualisasi dalam bentuk scatterplot pada data \"cloth_data\" untuk kolom size dan kolom age"
      ]
    },
    {
      "cell_type": "code",
      "metadata": {
        "colab": {
          "base_uri": "https://localhost:8080/",
          "height": 282
        },
        "id": "_JUBNhza7lJ1",
        "outputId": "23581bec-9f4d-4e89-a427-eb68f212443f"
      },
      "source": [
        "#latihan(19)\n",
        "#Buat scatterplot dengan kolom size dan age\n",
        "age = cloth['age']\n",
        "size = cloth['size']\n",
        "plt.scatter(size, age)"
      ],
      "execution_count": 31,
      "outputs": [
        {
          "output_type": "execute_result",
          "data": {
            "text/plain": [
              "<matplotlib.collections.PathCollection at 0x7fda684f84d0>"
            ]
          },
          "metadata": {},
          "execution_count": 31
        },
        {
          "output_type": "display_data",
          "data": {
            "image/png": "[encoded data removed]",
            "text/plain": [
              "<Figure size 432x288 with 1 Axes>"
            ]
          },
          "metadata": {
            "needs_background": "light"
          }
        }
      ]
    },
    {
      "cell_type": "markdown",
      "metadata": {
        "id": "MJbMo47_7lJ1"
      },
      "source": [
        "# Latihan (20)\n",
        "\n",
        "Buatlah visualisasi dalam bentuk histogram pada data \"cloth_data\" untuk kolom age"
      ]
    },
    {
      "cell_type": "code",
      "metadata": {
        "colab": {
          "base_uri": "https://localhost:8080/",
          "height": 316
        },
        "id": "xQkf7VB27lJ2",
        "outputId": "31943630-d30c-40b1-d3e6-74982a788b77"
      },
      "source": [
        "#Latihan(20)\n",
        "#Buat histogram untuk kolom size\n",
        "age = cloth['age']\n",
        "plt.hist(age)"
      ],
      "execution_count": 32,
      "outputs": [
        {
          "output_type": "execute_result",
          "data": {
            "text/plain": [
              "(array([ 3., 13., 15.,  9.,  1.,  4.,  3.,  1.,  0.,  1.]),\n",
              " array([20. , 24.5, 29. , 33.5, 38. , 42.5, 47. , 51.5, 56. , 60.5, 65. ]),\n",
              " <a list of 10 Patch objects>)"
            ]
          },
          "metadata": {},
          "execution_count": 32
        },
        {
          "output_type": "display_data",
          "data": {
            "image/png": "[encoded data removed]",
            "text/plain": [
              "<Figure size 432x288 with 1 Axes>"
            ]
          },
          "metadata": {
            "needs_background": "light"
          }
        }
      ]
    }
  ]
}